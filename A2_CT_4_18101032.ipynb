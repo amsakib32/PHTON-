{
  "nbformat": 4,
  "nbformat_minor": 0,
  "metadata": {
    "colab": {
      "name": "A2_CT_4_18101032.ipynb",
      "provenance": [],
      "collapsed_sections": [],
      "include_colab_link": true
    },
    "kernelspec": {
      "name": "python3",
      "display_name": "Python 3"
    }
  },
  "cells": [
    {
      "cell_type": "markdown",
      "metadata": {
        "id": "view-in-github",
        "colab_type": "text"
      },
      "source": [
        "<a href=\"https://colab.research.google.com/github/amsakib32/PHTON-/blob/master/A2_CT_4_18101032.ipynb\" target=\"_parent\"><img src=\"https://colab.research.google.com/assets/colab-badge.svg\" alt=\"Open In Colab\"/></a>"
      ]
    },
    {
      "cell_type": "markdown",
      "metadata": {
        "id": "NVJCkDFMntlQ",
        "colab_type": "text"
      },
      "source": [
        "Ans to Ques No 1:"
      ]
    },
    {
      "cell_type": "code",
      "metadata": {
        "id": "eFs9sBQadszs",
        "colab_type": "code",
        "colab": {}
      },
      "source": [
        "import math as m\n",
        "class calculator:\n",
        "  a=0.0\n",
        "  b=0.0\n",
        "  c=0.0\n",
        "  def plus(self,a,b):\n",
        "    self.c=a+b\n",
        "    print(self.c)\n",
        "  \n",
        "  def minious(self,a,b):\n",
        "    self.c=a-b\n",
        "    print(self.c)\n",
        "    \n",
        "  def multiply(self,a,b):\n",
        "    self.c=a*b\n",
        "    print(self.c)\n",
        "\n",
        "  def divide(self,a,b):\n",
        "    self.c=a/b\n",
        "    print(self.c)\n",
        "\n",
        "  def squrt(self,a):\n",
        "    self.c=m.sqrt(a)\n",
        "    print(self.c)\n",
        "\n",
        "  def round(self,a):\n",
        "    self.c=m.round(a)\n",
        "    print(self.c)\n",
        "\n",
        "  def power(self,a,b):\n",
        "    self.c=m.pow(a,b)\n",
        "    print(self.c)\n",
        "\n",
        "  def log(self,a,base):\n",
        "    self.c=m.log(a,base)\n",
        "    print(self.c)\n",
        "\n",
        "  def sin(self,angle):\n",
        "    a=m.degrees(angle)\n",
        "    self.c=m.sin(a)\n",
        "    print(self.c)\n",
        "\n",
        "  def cos(self,angle):\n",
        "    a=m.degrees(angle)\n",
        "    self.c= m.cos(a)\n",
        "    print(self.c)\n",
        "\n",
        "  def tan(self,angle):\n",
        "    a=m.degrees(angle)\n",
        "    self.c=m.tan(a)\n",
        "    print(self.c)\n",
        "\n",
        "  def factorial(self,a):\n",
        "    self.c=m.factorial(a)\n",
        "    print(self.c)\n",
        "\n",
        "  def mod(self,a,b):\n",
        "    self.c=a%b\n",
        "    print(self.c)\n",
        "\n",
        "  def percentage(self,a,b):\n",
        "    self.c=(b*100)/a\n",
        "    print(self.c)\n",
        "    \n",
        "  def ans(self):\n",
        "    print(self.c)"
      ],
      "execution_count": 118,
      "outputs": []
    },
    {
      "cell_type": "code",
      "metadata": {
        "id": "K8XQy1WVf98k",
        "colab_type": "code",
        "colab": {}
      },
      "source": [
        "a=calculator()"
      ],
      "execution_count": 119,
      "outputs": []
    },
    {
      "cell_type": "code",
      "metadata": {
        "id": "x1PMK1QfgBwC",
        "colab_type": "code",
        "colab": {
          "base_uri": "https://localhost:8080/",
          "height": 34
        },
        "outputId": "51db7752-0fe8-4a92-b9be-cca18035d265"
      },
      "source": [
        "a.plus(10,5)"
      ],
      "execution_count": 77,
      "outputs": [
        {
          "output_type": "stream",
          "text": [
            "15\n"
          ],
          "name": "stdout"
        }
      ]
    },
    {
      "cell_type": "code",
      "metadata": {
        "id": "4ZGjf33egpXZ",
        "colab_type": "code",
        "colab": {
          "base_uri": "https://localhost:8080/",
          "height": 34
        },
        "outputId": "ef54df69-8603-46fb-b033-88acc03c3466"
      },
      "source": [
        "a.ans()"
      ],
      "execution_count": 121,
      "outputs": [
        {
          "output_type": "stream",
          "text": [
            "0.7475778912844228\n"
          ],
          "name": "stdout"
        }
      ]
    },
    {
      "cell_type": "code",
      "metadata": {
        "id": "X2KZH87SnYX0",
        "colab_type": "code",
        "colab": {
          "base_uri": "https://localhost:8080/",
          "height": 34
        },
        "outputId": "a6e8d7e7-c906-464d-fcce-64b76d0acff5"
      },
      "source": [
        "a.minious(8,5)"
      ],
      "execution_count": 79,
      "outputs": [
        {
          "output_type": "stream",
          "text": [
            "3\n"
          ],
          "name": "stdout"
        }
      ]
    },
    {
      "cell_type": "code",
      "metadata": {
        "id": "utUfFrSWnkr-",
        "colab_type": "code",
        "colab": {
          "base_uri": "https://localhost:8080/",
          "height": 34
        },
        "outputId": "23fb017f-bf5e-459c-81ac-110d0b05299a"
      },
      "source": [
        "a.sin(60)"
      ],
      "execution_count": 120,
      "outputs": [
        {
          "output_type": "stream",
          "text": [
            "0.7475778912844228\n"
          ],
          "name": "stdout"
        }
      ]
    },
    {
      "cell_type": "code",
      "metadata": {
        "id": "YBw8xEdgMscU",
        "colab_type": "code",
        "colab": {
          "base_uri": "https://localhost:8080/",
          "height": 34
        },
        "outputId": "faefbf40-f821-4a39-b1fa-614a0833510a"
      },
      "source": [
        "a.factorial(5)"
      ],
      "execution_count": 82,
      "outputs": [
        {
          "output_type": "stream",
          "text": [
            "120\n"
          ],
          "name": "stdout"
        }
      ]
    },
    {
      "cell_type": "markdown",
      "metadata": {
        "id": "loAoDcE4n9a3",
        "colab_type": "text"
      },
      "source": [
        "Ans to ques No 2:"
      ]
    },
    {
      "cell_type": "code",
      "metadata": {
        "id": "27LHXeQvoAxC",
        "colab_type": "code",
        "colab": {}
      },
      "source": [
        "class student:\n",
        "  name=\"\"\n",
        "  id=0\n",
        "  semester=\"\"\n",
        "  email=\"\"\n",
        "  cgpa=0.0\n",
        "  credit_complete=0.0\n",
        "  def __init__(self,name,id,semester,email):\n",
        "    self.name=name\n",
        "    self.id=id\n",
        "    self.semester=semester\n",
        "    self.email=email\n",
        "  def show_data(self):\n",
        "    print(self.name,\"\\n\",self.id,\"\\n\",self.semester,\"\\n\",self.email,\"\\n\",self.cgpa,\"\\n\",self.credit_complete,\"\\n\")\n",
        "  def update_semester(self,semester):\n",
        "    self.semester=semester\n",
        "  def update_cgpa(self,cgpa):\n",
        "    self.cgpa=cgpa\n",
        "  def upadte_completed_credit(self,credit):\n",
        "    self.credit_complete=credit\n"
      ],
      "execution_count": 94,
      "outputs": []
    },
    {
      "cell_type": "code",
      "metadata": {
        "id": "ICJe2D5esaIm",
        "colab_type": "code",
        "colab": {}
      },
      "source": [
        "a=student(\"sakib\",1,\"3-1\",\"18101032@uap-bd.edu\")"
      ],
      "execution_count": 101,
      "outputs": []
    },
    {
      "cell_type": "code",
      "metadata": {
        "id": "LbH1UnmwNy_0",
        "colab_type": "code",
        "colab": {}
      },
      "source": [
        "a.upadte_completed_credit(98.5)"
      ],
      "execution_count": 103,
      "outputs": []
    },
    {
      "cell_type": "code",
      "metadata": {
        "id": "FuIpI1g_N4g3",
        "colab_type": "code",
        "colab": {}
      },
      "source": [
        "a.update_cgpa(3.98)"
      ],
      "execution_count": 104,
      "outputs": []
    },
    {
      "cell_type": "code",
      "metadata": {
        "id": "Ru_X3zmTsqsL",
        "colab_type": "code",
        "colab": {
          "base_uri": "https://localhost:8080/",
          "height": 136
        },
        "outputId": "e277f798-6e33-4bbb-cdd5-edfe08746815"
      },
      "source": [
        "a.show_data()"
      ],
      "execution_count": 105,
      "outputs": [
        {
          "output_type": "stream",
          "text": [
            "sakib \n",
            " 1 \n",
            " 3-1 \n",
            " 18101032@uap-bd.edu \n",
            " 3.98 \n",
            " 98.5 \n",
            "\n"
          ],
          "name": "stdout"
        }
      ]
    }
  ]
}