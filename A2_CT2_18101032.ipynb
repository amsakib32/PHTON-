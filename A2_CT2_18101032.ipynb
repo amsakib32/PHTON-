{
  "nbformat": 4,
  "nbformat_minor": 0,
  "metadata": {
    "colab": {
      "name": "A2_CT2_18101032.ipynb",
      "provenance": [],
      "include_colab_link": true
    },
    "kernelspec": {
      "name": "python3",
      "display_name": "Python 3"
    }
  },
  "cells": [
    {
      "cell_type": "markdown",
      "metadata": {
        "id": "view-in-github",
        "colab_type": "text"
      },
      "source": [
        "<a href=\"https://colab.research.google.com/github/amsakib32/PHTON-/blob/master/A2_CT2_18101032.ipynb\" target=\"_parent\"><img src=\"https://colab.research.google.com/assets/colab-badge.svg\" alt=\"Open In Colab\"/></a>"
      ]
    },
    {
      "cell_type": "markdown",
      "metadata": {
        "id": "dcy_8U97bxnL",
        "colab_type": "text"
      },
      "source": [
        "Write a python code to determine odd or even.\n"
      ]
    },
    {
      "cell_type": "code",
      "metadata": {
        "id": "fEjYMGjrbo-h",
        "colab_type": "code",
        "colab": {
          "base_uri": "https://localhost:8080/",
          "height": 51
        },
        "outputId": "07e68ed9-96d0-4ec9-9efc-1d60377e842b"
      },
      "source": [
        "x=int(input(\"Enter a number to check even/odd: \"))\n",
        "if x%2==0:\n",
        "  print(\"Even Number\")\n",
        "else:\n",
        "  print(\"Odd Number\")"
      ],
      "execution_count": null,
      "outputs": [
        {
          "output_type": "stream",
          "text": [
            "Enter a number to check even/odd: 5\n",
            "Odd Number\n"
          ],
          "name": "stdout"
        }
      ]
    },
    {
      "cell_type": "markdown",
      "metadata": {
        "id": "JAgUiVKrfQKL",
        "colab_type": "text"
      },
      "source": [
        "Write a python program to calculate the letter grade of an H.S.C exam. The exam mark will be given as input"
      ]
    },
    {
      "cell_type": "code",
      "metadata": {
        "id": "Sc5kMjMHfPuZ",
        "colab_type": "code",
        "colab": {
          "base_uri": "https://localhost:8080/",
          "height": 51
        },
        "outputId": "50e12448-4d93-4760-b0dd-9fd1bce3395f"
      },
      "source": [
        "x=float(input(\"Enter a number to check your grade: \"))\n",
        "if x>=80.0:\n",
        "  print(\"A+\")\n",
        "elif x>=70.0 and x<80:\n",
        "  print(\"A\")\n",
        "elif x>=60 and x<70:\n",
        "  print(\"A-\")\n",
        "elif x>=50.0 and x<60:\n",
        "  print(\"B\")\n",
        "elif x>=40.0 and x<50:\n",
        "  print(\"C\")\n",
        "elif x>=33.0 and x<40:\n",
        "  print(\"D\")\n",
        "elif x<32:\n",
        " print(\"F\")"
      ],
      "execution_count": null,
      "outputs": [
        {
          "output_type": "stream",
          "text": [
            "Enter a number to check your grade: 70\n",
            "A\n"
          ],
          "name": "stdout"
        }
      ]
    },
    {
      "cell_type": "markdown",
      "metadata": {
        "id": "7wbpr_AKhdrg",
        "colab_type": "text"
      },
      "source": [
        "Given a string of length 12, divide the string into 4 parts of length 3. Then swap the first part with the last part. Output the final string."
      ]
    },
    {
      "cell_type": "code",
      "metadata": {
        "id": "Z0PyK9KJhf-0",
        "colab_type": "code",
        "colab": {
          "base_uri": "https://localhost:8080/",
          "height": 51
        },
        "outputId": "5fd397a0-3bd7-4417-cea1-09151013f4e9"
      },
      "source": [
        "x=input(\"Enter a 12 length string: \")\n",
        "x1=x[0:3]\n",
        "x2=x[3:6]\n",
        "x3=x[6:9]\n",
        "x4=x[9:12]\n",
        "y=x4+x2+x3+x1\n",
        "print(\"Output: \",y)\n"
      ],
      "execution_count": null,
      "outputs": [
        {
          "output_type": "stream",
          "text": [
            "Enter a 12 length string: ABCDEFGHIJKL\n",
            "Output:  JKLDEFGHIABC\n"
          ],
          "name": "stdout"
        }
      ]
    },
    {
      "cell_type": "markdown",
      "metadata": {
        "id": "I6qlxSMOjYr1",
        "colab_type": "text"
      },
      "source": [
        "Choose variables of appropriate data type to store the information of the following table in a way that if someone inputs the ID, it will show all the information of that student"
      ]
    },
    {
      "cell_type": "code",
      "metadata": {
        "id": "fBNYFsz1jZhj",
        "colab_type": "code",
        "colab": {
          "base_uri": "https://localhost:8080/",
          "height": 71
        },
        "outputId": "2f57acf6-67fd-4e51-e4b0-232c33fcc826"
      },
      "source": [
        "y=int(input(\"Enter id: \"))\n",
        "d1={\n",
        "    \"ID\":\"1\",\n",
        "   \"First name\":\"Peter\",\n",
        "   \"Last name\":\"Lee\",\n",
        "   \"Email\":\"pele@university.edu\",\n",
        "   \"Year of birth\":\"1992\"\n",
        "\n",
        "\n",
        "}\n",
        "d2={\n",
        "    \"ID\":\"2\",\n",
        "   \"First name\":\"Jonatham\",\n",
        "   \"Last name\":\"Edwards\",\n",
        "   \"Email\":\"jedwards@university.edu\",\n",
        "   \"Year of birth\":\"1994\"\n",
        "\n",
        "\n",
        "}\n",
        "d3={\n",
        "    \"ID\":\"3\",\n",
        "   \"First name\":\"Marylin\",\n",
        "   \"Last name\":\"Johnsan\",\n",
        "   \"Email\":\"mjohnson@university.edu\",\n",
        "   \"Year of birth\":\"1993\"\n",
        "\n",
        "\n",
        "}\n",
        "d4={\n",
        "    \"ID\":\"6\",\n",
        "   \"First name\":\"Joe\",\n",
        "   \"Last name\":\"Kim\",\n",
        "   \"Email\":\"jkim@university.edu\",\n",
        "   \"Year of birth\":\"1992\"\n",
        "\n",
        "\n",
        "}\n",
        "d5={\n",
        "    \"ID\":\"12\",\n",
        "   \"First name\":\"Haley\",\n",
        "   \"Last name\":\"Martinez\",\n",
        "   \"Email\":\"hmartinez@university.edu\",\n",
        "   \"Year of birth\":\"1993\"\n",
        "\n",
        "\n",
        "}\n",
        "dictionary={\n",
        "    1:d1,\n",
        "   2:d2,\n",
        "   3:d3,\n",
        "   6:d4,\n",
        "   12:d5\n",
        "}\n",
        "\n",
        "print(dictionary[y])"
      ],
      "execution_count": null,
      "outputs": [
        {
          "output_type": "stream",
          "text": [
            "Enter id: 12\n",
            "{'ID': '12', 'First name': 'Haley', 'Last name': 'Martinez', 'Email': 'hmartinez@university.edu', 'Year of birth': '1993'}\n"
          ],
          "name": "stdout"
        }
      ]
    },
    {
      "cell_type": "code",
      "metadata": {
        "id": "knamRjeKpzcG",
        "colab_type": "code",
        "colab": {
          "base_uri": "https://localhost:8080/",
          "height": 34
        },
        "outputId": "4599e162-9618-4d4a-c565-f86d1a566cc3"
      },
      "source": [
        "type(dictionary)"
      ],
      "execution_count": null,
      "outputs": [
        {
          "output_type": "execute_result",
          "data": {
            "text/plain": [
              "dict"
            ]
          },
          "metadata": {
            "tags": []
          },
          "execution_count": 31
        }
      ]
    }
  ]
}