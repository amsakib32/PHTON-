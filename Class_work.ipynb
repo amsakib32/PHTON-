{
  "nbformat": 4,
  "nbformat_minor": 0,
  "metadata": {
    "colab": {
      "name": "Class_work.ipynb",
      "provenance": [],
      "authorship_tag": "ABX9TyPk5DFndzx0LtTDr0t7VbiL",
      "include_colab_link": true
    },
    "kernelspec": {
      "name": "python3",
      "display_name": "Python 3"
    }
  },
  "cells": [
    {
      "cell_type": "markdown",
      "metadata": {
        "id": "view-in-github",
        "colab_type": "text"
      },
      "source": [
        "<a href=\"https://colab.research.google.com/github/amsakib32/PHTON-/blob/master/Class_work.ipynb\" target=\"_parent\"><img src=\"https://colab.research.google.com/assets/colab-badge.svg\" alt=\"Open In Colab\"/></a>"
      ]
    },
    {
      "cell_type": "markdown",
      "metadata": {
        "id": "1Z0t9eirMXgz",
        "colab_type": "text"
      },
      "source": [
        "**LIST**"
      ]
    },
    {
      "cell_type": "code",
      "metadata": {
        "id": "eslNJhw9m8-g",
        "colab_type": "code",
        "colab": {}
      },
      "source": [
        "l=[1,10,30,4,5]\n"
      ],
      "execution_count": null,
      "outputs": []
    },
    {
      "cell_type": "code",
      "metadata": {
        "id": "CMjg1z7BnsVR",
        "colab_type": "code",
        "colab": {
          "base_uri": "https://localhost:8080/",
          "height": 34
        },
        "outputId": "67f045e7-ac6c-4746-fab8-5e723c19bb58"
      },
      "source": [
        "l[2:4:2]"
      ],
      "execution_count": null,
      "outputs": [
        {
          "output_type": "execute_result",
          "data": {
            "text/plain": [
              "[30]"
            ]
          },
          "metadata": {
            "tags": []
          },
          "execution_count": 3
        }
      ]
    },
    {
      "cell_type": "code",
      "metadata": {
        "id": "vGYnLg0QMcxQ",
        "colab_type": "code",
        "colab": {
          "base_uri": "https://localhost:8080/",
          "height": 34
        },
        "outputId": "b700d914-c002-4c55-982b-59d5769041c9"
      },
      "source": [
        "l=[10,58,45,12,17,19]\n",
        "l=l+[6]\n",
        "l"
      ],
      "execution_count": 16,
      "outputs": [
        {
          "output_type": "execute_result",
          "data": {
            "text/plain": [
              "[10, 58, 45, 12, 17, 19, 6]"
            ]
          },
          "metadata": {
            "tags": []
          },
          "execution_count": 16
        }
      ]
    },
    {
      "cell_type": "code",
      "metadata": {
        "id": "1ZXqyYTKMk21",
        "colab_type": "code",
        "colab": {
          "base_uri": "https://localhost:8080/",
          "height": 34
        },
        "outputId": "bc86d505-bf21-42ae-8c5e-db1738ea3d66"
      },
      "source": [
        "l=l[:3]+[100]+l[3:]\n",
        "l"
      ],
      "execution_count": 19,
      "outputs": [
        {
          "output_type": "execute_result",
          "data": {
            "text/plain": [
              "[10, 58, 45, 100, 12, 17, 19, 6]"
            ]
          },
          "metadata": {
            "tags": []
          },
          "execution_count": 19
        }
      ]
    },
    {
      "cell_type": "code",
      "metadata": {
        "id": "-RxNaAHZNEID",
        "colab_type": "code",
        "colab": {
          "base_uri": "https://localhost:8080/",
          "height": 34
        },
        "outputId": "cc630dc2-517e-4ba4-985b-56c8cad3990d"
      },
      "source": [
        "l=[0]+l\n",
        "l"
      ],
      "execution_count": 20,
      "outputs": [
        {
          "output_type": "execute_result",
          "data": {
            "text/plain": [
              "[0, 10, 58, 45, 100, 12, 17, 19, 6]"
            ]
          },
          "metadata": {
            "tags": []
          },
          "execution_count": 20
        }
      ]
    },
    {
      "cell_type": "code",
      "metadata": {
        "id": "9yHVi_jXqeE6",
        "colab_type": "code",
        "colab": {
          "base_uri": "https://localhost:8080/",
          "height": 51
        },
        "outputId": "073ddc29-64c4-4e3b-aff4-0d7f24dd087c"
      },
      "source": [
        "x=int(input())\n",
        "if x>0:\n",
        "  print(\"positive\")\n",
        "else:\n",
        "  print(\"negative\")"
      ],
      "execution_count": null,
      "outputs": [
        {
          "output_type": "stream",
          "text": [
            "10\n",
            "positive\n"
          ],
          "name": "stdout"
        }
      ]
    },
    {
      "cell_type": "markdown",
      "metadata": {
        "id": "Zt64H27O1nNN",
        "colab_type": "text"
      },
      "source": [
        "DICTONARY"
      ]
    },
    {
      "cell_type": "code",
      "metadata": {
        "id": "kpmrmS8F1pNG",
        "colab_type": "code",
        "colab": {}
      },
      "source": [
        "d={\n",
        "    \n",
        "    \"key\" :\"value\",\n",
        "    \"name\":\"Sakib\",\n",
        "   \"id\":18101032\n",
        "}"
      ],
      "execution_count": null,
      "outputs": []
    },
    {
      "cell_type": "code",
      "metadata": {
        "id": "oM09VXsQ2uAm",
        "colab_type": "code",
        "colab": {
          "base_uri": "https://localhost:8080/",
          "height": 35
        },
        "outputId": "27ab3fb9-a3a2-4da7-f316-989cb22be360"
      },
      "source": [
        "d['name']"
      ],
      "execution_count": null,
      "outputs": [
        {
          "output_type": "execute_result",
          "data": {
            "application/vnd.google.colaboratory.intrinsic": {
              "type": "string"
            },
            "text/plain": [
              "'Sakib'"
            ]
          },
          "metadata": {
            "tags": []
          },
          "execution_count": 6
        }
      ]
    },
    {
      "cell_type": "code",
      "metadata": {
        "id": "T9nQcZnn212F",
        "colab_type": "code",
        "colab": {}
      },
      "source": [
        "student1={\n",
        "    \"name\":\"ragib\",\n",
        "    \"id\":18101032,\n",
        "    \"Dept\":\"CSE\"\n",
        "}"
      ],
      "execution_count": null,
      "outputs": []
    },
    {
      "cell_type": "code",
      "metadata": {
        "id": "pOezZWMQ3YZt",
        "colab_type": "code",
        "colab": {
          "base_uri": "https://localhost:8080/",
          "height": 34
        },
        "outputId": "1c412ca3-d833-4bb2-b606-06aea5a17782"
      },
      "source": [
        "student1[\"id\"]"
      ],
      "execution_count": null,
      "outputs": [
        {
          "output_type": "execute_result",
          "data": {
            "text/plain": [
              "18101032"
            ]
          },
          "metadata": {
            "tags": []
          },
          "execution_count": 9
        }
      ]
    },
    {
      "cell_type": "code",
      "metadata": {
        "id": "QFnt81l13lhQ",
        "colab_type": "code",
        "colab": {
          "base_uri": "https://localhost:8080/",
          "height": 163
        },
        "outputId": "e4dbf337-d03c-4f62-d3df-d34405de7986"
      },
      "source": [
        "student1[\"CSE\"]"
      ],
      "execution_count": null,
      "outputs": [
        {
          "output_type": "error",
          "ename": "KeyError",
          "evalue": "ignored",
          "traceback": [
            "\u001b[0;31m---------------------------------------------------------------------------\u001b[0m",
            "\u001b[0;31mKeyError\u001b[0m                                  Traceback (most recent call last)",
            "\u001b[0;32m<ipython-input-10-e4eb02a6543e>\u001b[0m in \u001b[0;36m<module>\u001b[0;34m()\u001b[0m\n\u001b[0;32m----> 1\u001b[0;31m \u001b[0mstudent1\u001b[0m\u001b[0;34m[\u001b[0m\u001b[0;34m\"CSE\"\u001b[0m\u001b[0;34m]\u001b[0m\u001b[0;34m\u001b[0m\u001b[0;34m\u001b[0m\u001b[0m\n\u001b[0m",
            "\u001b[0;31mKeyError\u001b[0m: 'CSE'"
          ]
        }
      ]
    },
    {
      "cell_type": "code",
      "metadata": {
        "id": "ZueC4JuW48nN",
        "colab_type": "code",
        "colab": {}
      },
      "source": [
        "var_1=\"name\"\n",
        "var_2=\"sakib\"\n",
        "d3=[var_1,var_2]"
      ],
      "execution_count": null,
      "outputs": []
    },
    {
      "cell_type": "markdown",
      "metadata": {
        "id": "9tQsSK83Febc",
        "colab_type": "text"
      },
      "source": [
        "dictionary in dictionary"
      ]
    },
    {
      "cell_type": "code",
      "metadata": {
        "id": "Z7QoJVJxFc5D",
        "colab_type": "code",
        "colab": {
          "base_uri": "https://localhost:8080/",
          "height": 248
        },
        "outputId": "1406620c-5a49-4291-ac00-9d5d6c2b0775"
      },
      "source": [
        "x=int(input(\"Enter the id: \"))\n",
        "if type(x)!=int:\n",
        "  print(\"Please insert id in integer form \")\n",
        "  exit()\n",
        "  \n",
        "student_1={\n",
        "    \"Name\":\"Sakib\",\n",
        "    \"Id\":\"18101032\",\n",
        "    \"Sec\":\"A\",\n",
        "    \"Semester\":\"3-2\"\n",
        "\n",
        "}\n",
        "student_2={\n",
        "    \"Name\":\"Anam\",\n",
        "    \"Id\":\"18101039\",\n",
        "    \"Sec\":\"A\",\n",
        "    \"Semester\":\"3-2\"\n",
        "\n",
        "}\n",
        "student_3={\n",
        "    \"Name\":\"Shawon\",\n",
        "    \"Id\":\"18101028\",\n",
        "    \"Sec\":\"A\",\n",
        "    \"Semester\":\"3-2\"\n",
        "\n",
        "}\n",
        "stuent_dictionary={\n",
        "    18101032:student_1,\n",
        "    18101039:student_2,\n",
        "    18101028:student_3\n",
        "}\n",
        "print(stuent_dictionary[x])"
      ],
      "execution_count": 15,
      "outputs": [
        {
          "output_type": "stream",
          "text": [
            "Enter the id: 18101032h\n"
          ],
          "name": "stdout"
        },
        {
          "output_type": "error",
          "ename": "ValueError",
          "evalue": "ignored",
          "traceback": [
            "\u001b[0;31m---------------------------------------------------------------------------\u001b[0m",
            "\u001b[0;31mValueError\u001b[0m                                Traceback (most recent call last)",
            "\u001b[0;32m<ipython-input-15-eb6ffe771b93>\u001b[0m in \u001b[0;36m<module>\u001b[0;34m()\u001b[0m\n\u001b[0;32m----> 1\u001b[0;31m \u001b[0mx\u001b[0m\u001b[0;34m=\u001b[0m\u001b[0mint\u001b[0m\u001b[0;34m(\u001b[0m\u001b[0minput\u001b[0m\u001b[0;34m(\u001b[0m\u001b[0;34m\"Enter the id: \"\u001b[0m\u001b[0;34m)\u001b[0m\u001b[0;34m)\u001b[0m\u001b[0;34m\u001b[0m\u001b[0;34m\u001b[0m\u001b[0m\n\u001b[0m\u001b[1;32m      2\u001b[0m \u001b[0;32mif\u001b[0m \u001b[0mtype\u001b[0m\u001b[0;34m(\u001b[0m\u001b[0mx\u001b[0m\u001b[0;34m)\u001b[0m\u001b[0;34m!=\u001b[0m\u001b[0mint\u001b[0m\u001b[0;34m:\u001b[0m\u001b[0;34m\u001b[0m\u001b[0;34m\u001b[0m\u001b[0m\n\u001b[1;32m      3\u001b[0m   \u001b[0mprint\u001b[0m\u001b[0;34m(\u001b[0m\u001b[0;34m\"Please insert id in integer form \"\u001b[0m\u001b[0;34m)\u001b[0m\u001b[0;34m\u001b[0m\u001b[0;34m\u001b[0m\u001b[0m\n\u001b[1;32m      4\u001b[0m   \u001b[0mexit\u001b[0m\u001b[0;34m(\u001b[0m\u001b[0;34m)\u001b[0m\u001b[0;34m\u001b[0m\u001b[0;34m\u001b[0m\u001b[0m\n\u001b[1;32m      5\u001b[0m \u001b[0;34m\u001b[0m\u001b[0m\n",
            "\u001b[0;31mValueError\u001b[0m: invalid literal for int() with base 10: '18101032h'"
          ]
        }
      ]
    },
    {
      "cell_type": "markdown",
      "metadata": {
        "id": "KNvbX9vrnfdz",
        "colab_type": "text"
      },
      "source": [
        "**LOOP**"
      ]
    },
    {
      "cell_type": "code",
      "metadata": {
        "id": "pIfFIW0jniPE",
        "colab_type": "code",
        "colab": {
          "base_uri": "https://localhost:8080/",
          "height": 34
        },
        "outputId": "47e388a9-ae5d-4627-bf3a-80aa0666e7bc"
      },
      "source": [
        "i=1\n",
        "sum=0\n",
        "while i<11:\n",
        "  if(i==10):\n",
        "    print(i,end='')\n",
        "  else:\n",
        "    print(i,\"+\",end='')\n",
        "  sum=sum+i\n",
        "  i+=1\n",
        "print(\"=\",sum)\n"
      ],
      "execution_count": null,
      "outputs": [
        {
          "output_type": "stream",
          "text": [
            "1 +2 +3 +4 +5 +6 +7 +8 +9 +10= 55\n"
          ],
          "name": "stdout"
        }
      ]
    },
    {
      "cell_type": "code",
      "metadata": {
        "id": "Vgi-1JijtfyX",
        "colab_type": "code",
        "colab": {
          "base_uri": "https://localhost:8080/",
          "height": 68
        },
        "outputId": "9a2ef2c3-b3d5-4163-988c-ba967fab003a"
      },
      "source": [
        "start=int(input(\"Enter a number: \"))\n",
        "end_p=int(input(\"Enter the finishing number: \"))\n",
        "if start%2==1:\n",
        "  start=start+1\n",
        "if end_p%2==1:\n",
        "  end_p-=1\n",
        "i=start\n",
        "sum=0\n",
        "while i<end_p+1:\n",
        "  if(i==end_p):\n",
        "    print(i,end='')\n",
        "  else:\n",
        "    print(i,\"+\",end='')\n",
        "\n",
        "  sum=sum+i\n",
        "  i+=2\n",
        "print(\"=\",sum)"
      ],
      "execution_count": null,
      "outputs": [
        {
          "output_type": "stream",
          "text": [
            "Enter a number: 20\n",
            "Enter the finishing number: 30\n",
            "20 +22 +24 +26 +28 +30= 150\n"
          ],
          "name": "stdout"
        }
      ]
    },
    {
      "cell_type": "code",
      "metadata": {
        "id": "vGpIdW371Kgv",
        "colab_type": "code",
        "colab": {
          "base_uri": "https://localhost:8080/",
          "height": 34
        },
        "outputId": "0bfb7f4d-a931-4a98-c466-656f823ff6a8"
      },
      "source": [
        "x=10\n",
        "type(x)\n"
      ],
      "execution_count": 12,
      "outputs": [
        {
          "output_type": "execute_result",
          "data": {
            "text/plain": [
              "int"
            ]
          },
          "metadata": {
            "tags": []
          },
          "execution_count": 12
        }
      ]
    }
  ]
}