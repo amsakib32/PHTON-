{
  "nbformat": 4,
  "nbformat_minor": 0,
  "metadata": {
    "colab": {
      "name": "Phyton_syntex.ipynb",
      "provenance": [],
      "authorship_tag": "ABX9TyMYpBZJ7rfVIbz4ewl2/RNm",
      "include_colab_link": true
    },
    "kernelspec": {
      "name": "python3",
      "display_name": "Python 3"
    }
  },
  "cells": [
    {
      "cell_type": "markdown",
      "metadata": {
        "id": "view-in-github",
        "colab_type": "text"
      },
      "source": [
        "<a href=\"https://colab.research.google.com/github/amsakib32/PHTON-/blob/master/Phyton_syntex.ipynb\" target=\"_parent\"><img src=\"https://colab.research.google.com/assets/colab-badge.svg\" alt=\"Open In Colab\"/></a>"
      ]
    },
    {
      "cell_type": "code",
      "metadata": {
        "id": "bn00Be78K7Ah",
        "colab_type": "code",
        "colab": {
          "base_uri": "https://localhost:8080/",
          "height": 85
        },
        "outputId": "1ac970a7-2b6b-4297-e1ac-b8637180ab0b"
      },
      "source": [
        "print(\"Hello\")\n",
        "print(\"Hi Everyone\")\n",
        "print(\"Welcome\")\n",
        "print(\"sakib's laptop\")"
      ],
      "execution_count": null,
      "outputs": [
        {
          "output_type": "stream",
          "text": [
            "Hello\n",
            "Hi Everyone\n",
            "Welcome\n",
            "sakib's laptop\n"
          ],
          "name": "stdout"
        }
      ]
    },
    {
      "cell_type": "markdown",
      "metadata": {
        "id": "w-rhIjRmn7Zf",
        "colab_type": "text"
      },
      "source": [
        "In phyton if we want to write something for several time it's easy than c just multiplying"
      ]
    },
    {
      "cell_type": "code",
      "metadata": {
        "id": "MCHZtOu5nnNg",
        "colab_type": "code",
        "colab": {
          "base_uri": "https://localhost:8080/",
          "height": 68
        },
        "outputId": "d8445834-8f0e-405b-9a07-e79b97c61fb4"
      },
      "source": [
        "print(2*\"ALLAH\\n\")"
      ],
      "execution_count": null,
      "outputs": [
        {
          "output_type": "stream",
          "text": [
            "ALLAH\n",
            "ALLAH\n",
            "\n"
          ],
          "name": "stdout"
        }
      ]
    },
    {
      "cell_type": "markdown",
      "metadata": {
        "id": "gb6sx6jpocMP",
        "colab_type": "text"
      },
      "source": [
        "r means to print a raw string as it is."
      ]
    },
    {
      "cell_type": "code",
      "metadata": {
        "id": "4nBNqn7Xn5te",
        "colab_type": "code",
        "colab": {
          "base_uri": "https://localhost:8080/",
          "height": 51
        },
        "outputId": "ef09f601-bd38-416e-b6a9-788d10e614ab"
      },
      "source": [
        "print(r\"c:\\dsk\\new\")\n",
        "x=2\n",
        "y=3\n",
        "x+y"
      ],
      "execution_count": null,
      "outputs": [
        {
          "output_type": "stream",
          "text": [
            "c:\\dsk\\new\n"
          ],
          "name": "stdout"
        },
        {
          "output_type": "execute_result",
          "data": {
            "text/plain": [
              "5"
            ]
          },
          "metadata": {
            "tags": []
          },
          "execution_count": 12
        }
      ]
    },
    {
      "cell_type": "markdown",
      "metadata": {
        "id": "ZOEupmn-qWdt",
        "colab_type": "text"
      },
      "source": [
        "By using underscore we can use the previous output for example"
      ]
    },
    {
      "cell_type": "code",
      "metadata": {
        "id": "2wnv_t-iqiJQ",
        "colab_type": "code",
        "colab": {
          "base_uri": "https://localhost:8080/",
          "height": 34
        },
        "outputId": "0aa8ca37-3c92-4029-b454-d3d4264f5525"
      },
      "source": [
        "_+10"
      ],
      "execution_count": null,
      "outputs": [
        {
          "output_type": "execute_result",
          "data": {
            "text/plain": [
              "15"
            ]
          },
          "metadata": {
            "tags": []
          },
          "execution_count": 13
        }
      ]
    },
    {
      "cell_type": "markdown",
      "metadata": {
        "id": "jsF03jyNqosP",
        "colab_type": "text"
      },
      "source": [
        "so here the previous output is 5 and now we add 10 so the output is 15"
      ]
    },
    {
      "cell_type": "markdown",
      "metadata": {
        "id": "7x5mZB5cr68X",
        "colab_type": "text"
      },
      "source": [
        "***string***"
      ]
    },
    {
      "cell_type": "code",
      "metadata": {
        "id": "_-c9W8mgq9fo",
        "colab_type": "code",
        "colab": {}
      },
      "source": [
        "name=\"youtube\"\n"
      ],
      "execution_count": null,
      "outputs": []
    },
    {
      "cell_type": "code",
      "metadata": {
        "id": "8krMeQ30suUw",
        "colab_type": "code",
        "colab": {
          "base_uri": "https://localhost:8080/",
          "height": 35
        },
        "outputId": "c3965749-bdf9-4ea3-b451-4a4538c3b7c1"
      },
      "source": [
        "name[0]"
      ],
      "execution_count": null,
      "outputs": [
        {
          "output_type": "execute_result",
          "data": {
            "application/vnd.google.colaboratory.intrinsic": {
              "type": "string"
            },
            "text/plain": [
              "'y'"
            ]
          },
          "metadata": {
            "tags": []
          },
          "execution_count": 24
        }
      ]
    },
    {
      "cell_type": "code",
      "metadata": {
        "id": "XayXNE8WsmxD",
        "colab_type": "code",
        "colab": {
          "base_uri": "https://localhost:8080/",
          "height": 35
        },
        "outputId": "c428a2e9-b708-4e3d-d691-2d94522391b5"
      },
      "source": [
        "name +' rocks'"
      ],
      "execution_count": null,
      "outputs": [
        {
          "output_type": "execute_result",
          "data": {
            "application/vnd.google.colaboratory.intrinsic": {
              "type": "string"
            },
            "text/plain": [
              "'youtube rocks'"
            ]
          },
          "metadata": {
            "tags": []
          },
          "execution_count": 23
        }
      ]
    },
    {
      "cell_type": "code",
      "metadata": {
        "id": "8CjZpD1JsynY",
        "colab_type": "code",
        "colab": {
          "base_uri": "https://localhost:8080/",
          "height": 35
        },
        "outputId": "5e4706da-77b1-4f33-e5c0-876a48afe5e8"
      },
      "source": [
        "name[6]"
      ],
      "execution_count": null,
      "outputs": [
        {
          "output_type": "execute_result",
          "data": {
            "application/vnd.google.colaboratory.intrinsic": {
              "type": "string"
            },
            "text/plain": [
              "'e'"
            ]
          },
          "metadata": {
            "tags": []
          },
          "execution_count": 25
        }
      ]
    },
    {
      "cell_type": "code",
      "metadata": {
        "id": "Mvs_J88bs6Eb",
        "colab_type": "code",
        "colab": {
          "base_uri": "https://localhost:8080/",
          "height": 35
        },
        "outputId": "96bf2369-b763-4b09-cb7e-f582c85c9b06"
      },
      "source": [
        "name[-1]"
      ],
      "execution_count": null,
      "outputs": [
        {
          "output_type": "execute_result",
          "data": {
            "application/vnd.google.colaboratory.intrinsic": {
              "type": "string"
            },
            "text/plain": [
              "'e'"
            ]
          },
          "metadata": {
            "tags": []
          },
          "execution_count": 26
        }
      ]
    },
    {
      "cell_type": "markdown",
      "metadata": {
        "id": "d4HFhG_7s9Dh",
        "colab_type": "text"
      },
      "source": [
        "So when we give the negative number it will works from last to first.like the last letter of the word is store in[-1]"
      ]
    },
    {
      "cell_type": "code",
      "metadata": {
        "id": "m91lLfLktM4A",
        "colab_type": "code",
        "colab": {
          "base_uri": "https://localhost:8080/",
          "height": 35
        },
        "outputId": "fd728aa5-c194-421c-c9cc-42c96a8a4a81"
      },
      "source": [
        "name[-3]"
      ],
      "execution_count": null,
      "outputs": [
        {
          "output_type": "execute_result",
          "data": {
            "application/vnd.google.colaboratory.intrinsic": {
              "type": "string"
            },
            "text/plain": [
              "'u'"
            ]
          },
          "metadata": {
            "tags": []
          },
          "execution_count": 27
        }
      ]
    },
    {
      "cell_type": "code",
      "metadata": {
        "id": "4CRLawmxtRC4",
        "colab_type": "code",
        "colab": {
          "base_uri": "https://localhost:8080/",
          "height": 35
        },
        "outputId": "7ca83fdd-7dca-42ae-9cbf-37c24c924d91"
      },
      "source": [
        "name[0:4]"
      ],
      "execution_count": null,
      "outputs": [
        {
          "output_type": "execute_result",
          "data": {
            "application/vnd.google.colaboratory.intrinsic": {
              "type": "string"
            },
            "text/plain": [
              "'yout'"
            ]
          },
          "metadata": {
            "tags": []
          },
          "execution_count": 28
        }
      ]
    },
    {
      "cell_type": "markdown",
      "metadata": {
        "id": "NqI5-tYitaRp",
        "colab_type": "text"
      },
      "source": [
        "So the previous code means it will print from 0 to 3"
      ]
    },
    {
      "cell_type": "code",
      "metadata": {
        "id": "N6O_7J7etjAX",
        "colab_type": "code",
        "colab": {
          "base_uri": "https://localhost:8080/",
          "height": 35
        },
        "outputId": "b90a12f4-1048-4456-8956-3e843e2cd117"
      },
      "source": [
        "name[2:]"
      ],
      "execution_count": null,
      "outputs": [
        {
          "output_type": "execute_result",
          "data": {
            "application/vnd.google.colaboratory.intrinsic": {
              "type": "string"
            },
            "text/plain": [
              "'utube'"
            ]
          },
          "metadata": {
            "tags": []
          },
          "execution_count": 29
        }
      ]
    },
    {
      "cell_type": "code",
      "metadata": {
        "id": "d0ZRPipQtnTe",
        "colab_type": "code",
        "colab": {
          "base_uri": "https://localhost:8080/",
          "height": 35
        },
        "outputId": "71f2f5c1-4bee-4d5e-9003-fe0a1946a02e"
      },
      "source": [
        "name[:6]"
      ],
      "execution_count": null,
      "outputs": [
        {
          "output_type": "execute_result",
          "data": {
            "application/vnd.google.colaboratory.intrinsic": {
              "type": "string"
            },
            "text/plain": [
              "'youtub'"
            ]
          },
          "metadata": {
            "tags": []
          },
          "execution_count": 30
        }
      ]
    },
    {
      "cell_type": "code",
      "metadata": {
        "id": "TRcQKXxJuJeo",
        "colab_type": "code",
        "colab": {
          "base_uri": "https://localhost:8080/",
          "height": 35
        },
        "outputId": "cab8d21f-5301-4456-dd75-6a5d62480489"
      },
      "source": [
        "'my '+name[3:7]"
      ],
      "execution_count": null,
      "outputs": [
        {
          "output_type": "execute_result",
          "data": {
            "application/vnd.google.colaboratory.intrinsic": {
              "type": "string"
            },
            "text/plain": [
              "'my tube'"
            ]
          },
          "metadata": {
            "tags": []
          },
          "execution_count": 32
        }
      ]
    },
    {
      "cell_type": "markdown",
      "metadata": {
        "id": "uECNlIiL3eQ9",
        "colab_type": "text"
      },
      "source": [
        "Here it means it will print (3-6) index and by difference 2"
      ]
    },
    {
      "cell_type": "code",
      "metadata": {
        "id": "9l3VMm4r1thp",
        "colab_type": "code",
        "colab": {
          "base_uri": "https://localhost:8080/",
          "height": 35
        },
        "outputId": "9b02a84f-c78f-4e4c-e1a6-eb5d2ad61da9"
      },
      "source": [
        "name[3:7:2]"
      ],
      "execution_count": null,
      "outputs": [
        {
          "output_type": "execute_result",
          "data": {
            "application/vnd.google.colaboratory.intrinsic": {
              "type": "string"
            },
            "text/plain": [
              "'tb'"
            ]
          },
          "metadata": {
            "tags": []
          },
          "execution_count": 4
        }
      ]
    },
    {
      "cell_type": "markdown",
      "metadata": {
        "id": "z7EsOJuquwgW",
        "colab_type": "text"
      },
      "source": [
        "Length of a string"
      ]
    },
    {
      "cell_type": "code",
      "metadata": {
        "id": "-bsoBshuuVBC",
        "colab_type": "code",
        "colab": {
          "base_uri": "https://localhost:8080/",
          "height": 34
        },
        "outputId": "97f55d56-b4bf-4eae-f2a2-05be19f71679"
      },
      "source": [
        "myname=\"abdullah mohammad sakib\"\n",
        "len(myname)"
      ],
      "execution_count": null,
      "outputs": [
        {
          "output_type": "execute_result",
          "data": {
            "text/plain": [
              "23"
            ]
          },
          "metadata": {
            "tags": []
          },
          "execution_count": 34
        }
      ]
    },
    {
      "cell_type": "markdown",
      "metadata": {
        "id": "mP9dR_AzKjRl",
        "colab_type": "text"
      },
      "source": [
        "**List**"
      ]
    },
    {
      "cell_type": "code",
      "metadata": {
        "id": "V4DBU8c9KlsK",
        "colab_type": "code",
        "colab": {}
      },
      "source": [
        "nums=[1,2,3,4,5]"
      ],
      "execution_count": null,
      "outputs": []
    },
    {
      "cell_type": "code",
      "metadata": {
        "id": "63qXiEk2K6MK",
        "colab_type": "code",
        "colab": {
          "base_uri": "https://localhost:8080/",
          "height": 34
        },
        "outputId": "24412443-7494-4654-c7e9-fdb9a4adb8c1"
      },
      "source": [
        "nums"
      ],
      "execution_count": null,
      "outputs": [
        {
          "output_type": "execute_result",
          "data": {
            "text/plain": [
              "[1, 2, 3, 4, 5]"
            ]
          },
          "metadata": {
            "tags": []
          },
          "execution_count": 2
        }
      ]
    },
    {
      "cell_type": "code",
      "metadata": {
        "id": "276s-P21LH-J",
        "colab_type": "code",
        "colab": {
          "base_uri": "https://localhost:8080/",
          "height": 34
        },
        "outputId": "b6df9cae-1223-4195-d0cf-9dd7a3e6ae35"
      },
      "source": [
        "nums[1]"
      ],
      "execution_count": null,
      "outputs": [
        {
          "output_type": "execute_result",
          "data": {
            "text/plain": [
              "2"
            ]
          },
          "metadata": {
            "tags": []
          },
          "execution_count": 3
        }
      ]
    },
    {
      "cell_type": "code",
      "metadata": {
        "id": "ZPy4qouvLPY4",
        "colab_type": "code",
        "colab": {
          "base_uri": "https://localhost:8080/",
          "height": 34
        },
        "outputId": "1387cca7-02a2-47f2-ea4e-08e86579a64c"
      },
      "source": [
        "names=['sakib','ragib','tasnim']\n",
        "names"
      ],
      "execution_count": null,
      "outputs": [
        {
          "output_type": "execute_result",
          "data": {
            "text/plain": [
              "['sakib', 'ragib', 'tasnim']"
            ]
          },
          "metadata": {
            "tags": []
          },
          "execution_count": 4
        }
      ]
    },
    {
      "cell_type": "code",
      "metadata": {
        "id": "mxw6SVS_LbBx",
        "colab_type": "code",
        "colab": {
          "base_uri": "https://localhost:8080/",
          "height": 34
        },
        "outputId": "62b6d9aa-927b-4343-93b9-529d6e59d83c"
      },
      "source": [
        "mix=[3.98,4,'sakib']\n",
        "mix"
      ],
      "execution_count": null,
      "outputs": [
        {
          "output_type": "execute_result",
          "data": {
            "text/plain": [
              "[3.98, 4, 'sakib']"
            ]
          },
          "metadata": {
            "tags": []
          },
          "execution_count": 5
        }
      ]
    },
    {
      "cell_type": "code",
      "metadata": {
        "id": "F4oFpTGaLopo",
        "colab_type": "code",
        "colab": {
          "base_uri": "https://localhost:8080/",
          "height": 34
        },
        "outputId": "f4bc7f01-bc4b-4b76-a787-a3a49d824442"
      },
      "source": [
        "mil=[names,nums,mix]\n",
        "mil"
      ],
      "execution_count": null,
      "outputs": [
        {
          "output_type": "execute_result",
          "data": {
            "text/plain": [
              "[['sakib', 'ragib', 'tasnim'], [1, 2, 3, 4, 5], [3.98, 4, 'sakib']]"
            ]
          },
          "metadata": {
            "tags": []
          },
          "execution_count": 6
        }
      ]
    },
    {
      "cell_type": "markdown",
      "metadata": {
        "id": "vxzEak_6Md-A",
        "colab_type": "text"
      },
      "source": [
        "Append will add element in the last"
      ]
    },
    {
      "cell_type": "code",
      "metadata": {
        "id": "RVsycseNMPBZ",
        "colab_type": "code",
        "colab": {
          "base_uri": "https://localhost:8080/",
          "height": 34
        },
        "outputId": "955eff8c-83ac-41ff-f055-81630a68a998"
      },
      "source": [
        "nums.append(6)\n",
        "nums"
      ],
      "execution_count": null,
      "outputs": [
        {
          "output_type": "execute_result",
          "data": {
            "text/plain": [
              "[1, 2, 3, 4, 5, 6, 6]"
            ]
          },
          "metadata": {
            "tags": []
          },
          "execution_count": 8
        }
      ]
    },
    {
      "cell_type": "code",
      "metadata": {
        "id": "eqfEQ5z9Ml6Z",
        "colab_type": "code",
        "colab": {
          "base_uri": "https://localhost:8080/",
          "height": 34
        },
        "outputId": "64c4ff49-d1ab-402e-a6d8-2a1be0d053dd"
      },
      "source": [
        "nums.insert(0,-1)\n",
        "nums"
      ],
      "execution_count": null,
      "outputs": [
        {
          "output_type": "execute_result",
          "data": {
            "text/plain": [
              "[-1, 1, 2, 3, 4, 5, 6, 6]"
            ]
          },
          "metadata": {
            "tags": []
          },
          "execution_count": 9
        }
      ]
    },
    {
      "cell_type": "code",
      "metadata": {
        "id": "_FguMvB2Myjo",
        "colab_type": "code",
        "colab": {}
      },
      "source": [
        "nums.remove(6)\n"
      ],
      "execution_count": null,
      "outputs": []
    },
    {
      "cell_type": "code",
      "metadata": {
        "id": "yqceyZ76NVeB",
        "colab_type": "code",
        "colab": {
          "base_uri": "https://localhost:8080/",
          "height": 34
        },
        "outputId": "232ca447-53d6-4cce-d536-652ef932ca05"
      },
      "source": [
        "nums"
      ],
      "execution_count": null,
      "outputs": [
        {
          "output_type": "execute_result",
          "data": {
            "text/plain": [
              "[-1, 1, 2, 3, 4, 5, 6]"
            ]
          },
          "metadata": {
            "tags": []
          },
          "execution_count": 12
        }
      ]
    },
    {
      "cell_type": "markdown",
      "metadata": {
        "id": "SIhVCpMmNdnh",
        "colab_type": "text"
      },
      "source": [
        "Pop function works like remove but here we have to pass index number"
      ]
    },
    {
      "cell_type": "code",
      "metadata": {
        "id": "DicrxW59NmgB",
        "colab_type": "code",
        "colab": {
          "base_uri": "https://localhost:8080/",
          "height": 34
        },
        "outputId": "2288b3a1-8b3d-4233-d7d7-b9fffa41dc94"
      },
      "source": [
        "nums.pop(0)"
      ],
      "execution_count": null,
      "outputs": [
        {
          "output_type": "execute_result",
          "data": {
            "text/plain": [
              "-1"
            ]
          },
          "metadata": {
            "tags": []
          },
          "execution_count": 13
        }
      ]
    },
    {
      "cell_type": "markdown",
      "metadata": {
        "id": "TXhg7GGPN16h",
        "colab_type": "text"
      },
      "source": [
        "If we don't pass any values in the pop function it will remove the last number of the list"
      ]
    },
    {
      "cell_type": "code",
      "metadata": {
        "id": "RR4fAE6-N0so",
        "colab_type": "code",
        "colab": {
          "base_uri": "https://localhost:8080/",
          "height": 34
        },
        "outputId": "bac9541d-13ed-4ff3-e10c-3aa05e6c9131"
      },
      "source": [
        "nums"
      ],
      "execution_count": null,
      "outputs": [
        {
          "output_type": "execute_result",
          "data": {
            "text/plain": [
              "[1, 2, 3, 4, 5, 6]"
            ]
          },
          "metadata": {
            "tags": []
          },
          "execution_count": 14
        }
      ]
    },
    {
      "cell_type": "markdown",
      "metadata": {
        "id": "2iSUgb2tORs0",
        "colab_type": "text"
      },
      "source": [
        "for deleting multiple value we use del function"
      ]
    },
    {
      "cell_type": "code",
      "metadata": {
        "id": "faPzHNVGOnBJ",
        "colab_type": "code",
        "colab": {}
      },
      "source": [
        "del nums[4:]"
      ],
      "execution_count": null,
      "outputs": []
    },
    {
      "cell_type": "code",
      "metadata": {
        "id": "j0kANF6_Owla",
        "colab_type": "code",
        "colab": {
          "base_uri": "https://localhost:8080/",
          "height": 34
        },
        "outputId": "4b6c8002-697a-42b2-b7b5-d5ac449ccf1f"
      },
      "source": [
        "nums"
      ],
      "execution_count": null,
      "outputs": [
        {
          "output_type": "execute_result",
          "data": {
            "text/plain": [
              "[1, 2, 3, 4]"
            ]
          },
          "metadata": {
            "tags": []
          },
          "execution_count": 17
        }
      ]
    },
    {
      "cell_type": "code",
      "metadata": {
        "id": "CJp2N7xqO0fK",
        "colab_type": "code",
        "colab": {}
      },
      "source": [
        "nums.extend([5,6,7,8,9])"
      ],
      "execution_count": null,
      "outputs": []
    },
    {
      "cell_type": "markdown",
      "metadata": {
        "id": "9gsIvUDfO5vB",
        "colab_type": "text"
      },
      "source": [
        "extend function will add multiple value"
      ]
    },
    {
      "cell_type": "code",
      "metadata": {
        "id": "nxN2f9riPIM6",
        "colab_type": "code",
        "colab": {
          "base_uri": "https://localhost:8080/",
          "height": 34
        },
        "outputId": "9c2aab01-5d42-4503-eff4-81891010af5e"
      },
      "source": [
        "min(nums)"
      ],
      "execution_count": null,
      "outputs": [
        {
          "output_type": "execute_result",
          "data": {
            "text/plain": [
              "1"
            ]
          },
          "metadata": {
            "tags": []
          },
          "execution_count": 19
        }
      ]
    },
    {
      "cell_type": "code",
      "metadata": {
        "id": "rlhcSAXBPKs5",
        "colab_type": "code",
        "colab": {
          "base_uri": "https://localhost:8080/",
          "height": 34
        },
        "outputId": "6b552a1d-496c-4da6-b140-fd32886ad2c5"
      },
      "source": [
        "max(nums)"
      ],
      "execution_count": null,
      "outputs": [
        {
          "output_type": "execute_result",
          "data": {
            "text/plain": [
              "9"
            ]
          },
          "metadata": {
            "tags": []
          },
          "execution_count": 20
        }
      ]
    },
    {
      "cell_type": "code",
      "metadata": {
        "id": "CFwMO09wPZOT",
        "colab_type": "code",
        "colab": {
          "base_uri": "https://localhost:8080/",
          "height": 34
        },
        "outputId": "d4792186-38b0-484c-ef84-9382923688b2"
      },
      "source": [
        "sum(nums)"
      ],
      "execution_count": null,
      "outputs": [
        {
          "output_type": "execute_result",
          "data": {
            "text/plain": [
              "45"
            ]
          },
          "metadata": {
            "tags": []
          },
          "execution_count": 21
        }
      ]
    },
    {
      "cell_type": "markdown",
      "metadata": {
        "id": "WCYAs30CPABs",
        "colab_type": "text"
      },
      "source": [
        "We can also sort the element"
      ]
    },
    {
      "cell_type": "code",
      "metadata": {
        "id": "v7qkVVw3PjAx",
        "colab_type": "code",
        "colab": {
          "base_uri": "https://localhost:8080/",
          "height": 34
        },
        "outputId": "74bc1b7f-a20a-47a0-b191-3a7e69ebd343"
      },
      "source": [
        "a=[99,25,32,52,10,2,4]\n",
        "a"
      ],
      "execution_count": null,
      "outputs": [
        {
          "output_type": "execute_result",
          "data": {
            "text/plain": [
              "[99, 25, 32, 52, 10, 2, 4]"
            ]
          },
          "metadata": {
            "tags": []
          },
          "execution_count": 22
        }
      ]
    },
    {
      "cell_type": "code",
      "metadata": {
        "id": "rCjYPqMRPwuZ",
        "colab_type": "code",
        "colab": {
          "base_uri": "https://localhost:8080/",
          "height": 34
        },
        "outputId": "24a6985b-f6ed-4cf6-8d04-49789c8a541f"
      },
      "source": [
        "a.sort()\n",
        "a"
      ],
      "execution_count": null,
      "outputs": [
        {
          "output_type": "execute_result",
          "data": {
            "text/plain": [
              "[2, 4, 10, 25, 32, 52, 99]"
            ]
          },
          "metadata": {
            "tags": []
          },
          "execution_count": 24
        }
      ]
    },
    {
      "cell_type": "code",
      "metadata": {
        "id": "FXhvagpIVDjK",
        "colab_type": "code",
        "colab": {}
      },
      "source": [
        "b=[46,40,47,42,43,33,38,44,28,29,32,45,35,52]"
      ],
      "execution_count": null,
      "outputs": []
    },
    {
      "cell_type": "code",
      "metadata": {
        "id": "KKVVeAopVihK",
        "colab_type": "code",
        "colab": {
          "base_uri": "https://localhost:8080/",
          "height": 34
        },
        "outputId": "72d86d88-5b41-4b26-da25-8bfe38364da1"
      },
      "source": [
        "b.sort()\n",
        "b"
      ],
      "execution_count": null,
      "outputs": [
        {
          "output_type": "execute_result",
          "data": {
            "text/plain": [
              "[28, 29, 32, 33, 35, 38, 40, 42, 43, 44, 45, 46, 47, 52]"
            ]
          },
          "metadata": {
            "tags": []
          },
          "execution_count": 27
        }
      ]
    },
    {
      "cell_type": "markdown",
      "metadata": {
        "id": "Ajdt6Kd6D2b4",
        "colab_type": "text"
      },
      "source": [
        "**TUPLE:**T**uple is kind of list but here the element value is fixed.That's mean we cann't change the value what we inserted.**"
      ]
    },
    {
      "cell_type": "code",
      "metadata": {
        "id": "u86fBas6yA5Q",
        "colab_type": "code",
        "colab": {
          "base_uri": "https://localhost:8080/",
          "height": 34
        },
        "outputId": "6a20e094-0fc6-47ad-db1e-808c0144ee80"
      },
      "source": [
        "t=(25,96,21,98,12,6,65)\n",
        "t"
      ],
      "execution_count": null,
      "outputs": [
        {
          "output_type": "execute_result",
          "data": {
            "text/plain": [
              "(25, 96, 21, 98, 12, 6, 65)"
            ]
          },
          "metadata": {
            "tags": []
          },
          "execution_count": 2
        }
      ]
    },
    {
      "cell_type": "markdown",
      "metadata": {
        "id": "6sBOfvFqy2Uv",
        "colab_type": "text"
      },
      "source": [
        "Index wiil show that the number is in the position of tuple"
      ]
    },
    {
      "cell_type": "code",
      "metadata": {
        "id": "BRpTOvYyyLa2",
        "colab_type": "code",
        "colab": {
          "base_uri": "https://localhost:8080/",
          "height": 34
        },
        "outputId": "59145987-f48b-4976-a008-b83344397c76"
      },
      "source": [
        "t.index(98)"
      ],
      "execution_count": null,
      "outputs": [
        {
          "output_type": "execute_result",
          "data": {
            "text/plain": [
              "3"
            ]
          },
          "metadata": {
            "tags": []
          },
          "execution_count": 11
        }
      ]
    },
    {
      "cell_type": "code",
      "metadata": {
        "id": "6gXSIlsAyxJQ",
        "colab_type": "code",
        "colab": {
          "base_uri": "https://localhost:8080/",
          "height": 34
        },
        "outputId": "3d704e8c-a1ba-46a7-cd95-77788b75826d"
      },
      "source": [
        "t[3]"
      ],
      "execution_count": null,
      "outputs": [
        {
          "output_type": "execute_result",
          "data": {
            "text/plain": [
              "98"
            ]
          },
          "metadata": {
            "tags": []
          },
          "execution_count": 12
        }
      ]
    },
    {
      "cell_type": "markdown",
      "metadata": {
        "id": "g_-JQ1dpzeIG",
        "colab_type": "text"
      },
      "source": [
        "In set we cann add sample value multiple times but it shows it once."
      ]
    },
    {
      "cell_type": "code",
      "metadata": {
        "id": "XTiMsix7zCBf",
        "colab_type": "code",
        "colab": {
          "base_uri": "https://localhost:8080/",
          "height": 34
        },
        "outputId": "223e67c4-67c4-4667-be55-d045ca7fb592"
      },
      "source": [
        "set={25,85,78,1,6,9,14}\n",
        "set"
      ],
      "execution_count": null,
      "outputs": [
        {
          "output_type": "execute_result",
          "data": {
            "text/plain": [
              "{1, 6, 9, 14, 25, 78, 85}"
            ]
          },
          "metadata": {
            "tags": []
          },
          "execution_count": 17
        }
      ]
    },
    {
      "cell_type": "code",
      "metadata": {
        "id": "2V2bjIUvzLBO",
        "colab_type": "code",
        "colab": {
          "base_uri": "https://localhost:8080/",
          "height": 34
        },
        "outputId": "917c15fd-2535-401f-d20c-5c499316bff3"
      },
      "source": [
        "a={95,25,78,2,99,36,44,10,8,14,36,69,69}\n",
        "a"
      ],
      "execution_count": null,
      "outputs": [
        {
          "output_type": "execute_result",
          "data": {
            "text/plain": [
              "{2, 8, 10, 14, 25, 36, 44, 69, 78, 95, 99}"
            ]
          },
          "metadata": {
            "tags": []
          },
          "execution_count": 18
        }
      ]
    },
    {
      "cell_type": "markdown",
      "metadata": {
        "id": "wJ1N7qiPzzc9",
        "colab_type": "text"
      },
      "source": [
        "set doesn't support indexing"
      ]
    },
    {
      "cell_type": "code",
      "metadata": {
        "id": "JHg4is8Szu3-",
        "colab_type": "code",
        "colab": {
          "base_uri": "https://localhost:8080/",
          "height": 163
        },
        "outputId": "61878da4-e2d3-4a58-df54-349541a81f95"
      },
      "source": [
        "s[5]"
      ],
      "execution_count": null,
      "outputs": [
        {
          "output_type": "error",
          "ename": "TypeError",
          "evalue": "ignored",
          "traceback": [
            "\u001b[0;31m---------------------------------------------------------------------------\u001b[0m",
            "\u001b[0;31mTypeError\u001b[0m                                 Traceback (most recent call last)",
            "\u001b[0;32m<ipython-input-19-b5dece75d686>\u001b[0m in \u001b[0;36m<module>\u001b[0;34m()\u001b[0m\n\u001b[0;32m----> 1\u001b[0;31m \u001b[0ms\u001b[0m\u001b[0;34m[\u001b[0m\u001b[0;36m5\u001b[0m\u001b[0;34m]\u001b[0m\u001b[0;34m\u001b[0m\u001b[0;34m\u001b[0m\u001b[0m\n\u001b[0m",
            "\u001b[0;31mTypeError\u001b[0m: 'set' object does not support indexing"
          ]
        }
      ]
    },
    {
      "cell_type": "markdown",
      "metadata": {
        "id": "FNOPX9lgKPWK",
        "colab_type": "text"
      },
      "source": [
        "By using id function we may find the address of the variable and it's value"
      ]
    },
    {
      "cell_type": "code",
      "metadata": {
        "id": "3VEk6x3_KN5H",
        "colab_type": "code",
        "colab": {
          "base_uri": "https://localhost:8080/",
          "height": 34
        },
        "outputId": "05c95a7b-7bb4-49ac-d73a-7fa80f2ac2a8"
      },
      "source": [
        "a=5\n",
        "b=a\n",
        "b"
      ],
      "execution_count": null,
      "outputs": [
        {
          "output_type": "execute_result",
          "data": {
            "text/plain": [
              "5"
            ]
          },
          "metadata": {
            "tags": []
          },
          "execution_count": 20
        }
      ]
    },
    {
      "cell_type": "code",
      "metadata": {
        "id": "a89J1WOQKfLE",
        "colab_type": "code",
        "colab": {
          "base_uri": "https://localhost:8080/",
          "height": 34
        },
        "outputId": "a8b7d556-0b93-45c2-9ce1-0497f7ae04a0"
      },
      "source": [
        "id(a)"
      ],
      "execution_count": null,
      "outputs": [
        {
          "output_type": "execute_result",
          "data": {
            "text/plain": [
              "10914624"
            ]
          },
          "metadata": {
            "tags": []
          },
          "execution_count": 21
        }
      ]
    },
    {
      "cell_type": "code",
      "metadata": {
        "id": "9uHFCZULKid2",
        "colab_type": "code",
        "colab": {
          "base_uri": "https://localhost:8080/",
          "height": 34
        },
        "outputId": "8874750e-a601-4e4a-b4d0-e5957d350e83"
      },
      "source": [
        "id(b)"
      ],
      "execution_count": null,
      "outputs": [
        {
          "output_type": "execute_result",
          "data": {
            "text/plain": [
              "10914624"
            ]
          },
          "metadata": {
            "tags": []
          },
          "execution_count": 22
        }
      ]
    },
    {
      "cell_type": "markdown",
      "metadata": {
        "id": "1-OKq0TFKli6",
        "colab_type": "text"
      },
      "source": [
        "here the id /address is same because they are pointing the same box where the box value is 5. And if we want to find the id of 5 it's also give us the same value"
      ]
    },
    {
      "cell_type": "code",
      "metadata": {
        "id": "E6BNyTSVK8Ry",
        "colab_type": "code",
        "colab": {
          "base_uri": "https://localhost:8080/",
          "height": 34
        },
        "outputId": "49eafedb-e0cf-4894-ccd7-4d7673896d03"
      },
      "source": [
        "id(5)"
      ],
      "execution_count": null,
      "outputs": [
        {
          "output_type": "execute_result",
          "data": {
            "text/plain": [
              "10914624"
            ]
          },
          "metadata": {
            "tags": []
          },
          "execution_count": 23
        }
      ]
    },
    {
      "cell_type": "code",
      "metadata": {
        "id": "721AZk0TK_Sb",
        "colab_type": "code",
        "colab": {
          "base_uri": "https://localhost:8080/",
          "height": 34
        },
        "outputId": "e56d1287-37b1-41e7-cb6a-8d7f3f5d8d00"
      },
      "source": [
        "a=9\n",
        "id(a)"
      ],
      "execution_count": null,
      "outputs": [
        {
          "output_type": "execute_result",
          "data": {
            "text/plain": [
              "10914752"
            ]
          },
          "metadata": {
            "tags": []
          },
          "execution_count": 24
        }
      ]
    },
    {
      "cell_type": "markdown",
      "metadata": {
        "id": "uwydRLz7LEwc",
        "colab_type": "text"
      },
      "source": [
        "Here id of a is different from the previous one because the value of a is now 9 which is in another box that has different address."
      ]
    },
    {
      "cell_type": "code",
      "metadata": {
        "id": "n7RveHUgLXOf",
        "colab_type": "code",
        "colab": {
          "base_uri": "https://localhost:8080/",
          "height": 34
        },
        "outputId": "95ffb152-588a-4b59-d9fd-ff0035e121f1"
      },
      "source": [
        "id(b)"
      ],
      "execution_count": null,
      "outputs": [
        {
          "output_type": "execute_result",
          "data": {
            "text/plain": [
              "10914624"
            ]
          },
          "metadata": {
            "tags": []
          },
          "execution_count": 25
        }
      ]
    },
    {
      "cell_type": "code",
      "metadata": {
        "id": "htfcqizvLaQy",
        "colab_type": "code",
        "colab": {}
      },
      "source": [
        "here id(b) give the same as before because it pionting the value 5"
      ],
      "execution_count": null,
      "outputs": []
    },
    {
      "cell_type": "code",
      "metadata": {
        "id": "mMVK805DLjTi",
        "colab_type": "code",
        "colab": {
          "base_uri": "https://localhost:8080/",
          "height": 34
        },
        "outputId": "5e405034-6be8-4eaa-cbe4-a4a1405ee4f4"
      },
      "source": [
        "id(9)"
      ],
      "execution_count": null,
      "outputs": [
        {
          "output_type": "execute_result",
          "data": {
            "text/plain": [
              "10914752"
            ]
          },
          "metadata": {
            "tags": []
          },
          "execution_count": 26
        }
      ]
    },
    {
      "cell_type": "markdown",
      "metadata": {
        "id": "lsf8EqqOsoXT",
        "colab_type": "text"
      },
      "source": [
        "we can assign two value like that way"
      ]
    },
    {
      "cell_type": "code",
      "metadata": {
        "id": "3M2YRaierDcG",
        "colab_type": "code",
        "colab": {
          "base_uri": "https://localhost:8080/",
          "height": 34
        },
        "outputId": "288539ba-bc69-413d-ad29-aff6752e077c"
      },
      "source": [
        "a,b=5,6\n",
        "a"
      ],
      "execution_count": null,
      "outputs": [
        {
          "output_type": "execute_result",
          "data": {
            "text/plain": [
              "5"
            ]
          },
          "metadata": {
            "tags": []
          },
          "execution_count": 28
        }
      ]
    },
    {
      "cell_type": "code",
      "metadata": {
        "id": "YPWtvWfWrK8Q",
        "colab_type": "code",
        "colab": {
          "base_uri": "https://localhost:8080/",
          "height": 34
        },
        "outputId": "15e6f7d8-6308-4b15-a0a8-5d4de6d6271d"
      },
      "source": [
        "b"
      ],
      "execution_count": null,
      "outputs": [
        {
          "output_type": "execute_result",
          "data": {
            "text/plain": [
              "6"
            ]
          },
          "metadata": {
            "tags": []
          },
          "execution_count": 29
        }
      ]
    },
    {
      "cell_type": "markdown",
      "metadata": {
        "id": "qf3VoI5EwBW8",
        "colab_type": "text"
      },
      "source": [
        "NUMBER SYSTEM CONVERSITION IN PHYTON"
      ]
    },
    {
      "cell_type": "code",
      "metadata": {
        "id": "VJPwJ2tDwJ9A",
        "colab_type": "code",
        "colab": {
          "base_uri": "https://localhost:8080/",
          "height": 35
        },
        "outputId": "a67a06f2-9b35-44f3-919a-3ed2c98912bd"
      },
      "source": [
        "bin(32)"
      ],
      "execution_count": null,
      "outputs": [
        {
          "output_type": "execute_result",
          "data": {
            "application/vnd.google.colaboratory.intrinsic": {
              "type": "string"
            },
            "text/plain": [
              "'0b100000'"
            ]
          },
          "metadata": {
            "tags": []
          },
          "execution_count": 30
        }
      ]
    },
    {
      "cell_type": "markdown",
      "metadata": {
        "id": "6hhOaiTowiRD",
        "colab_type": "text"
      },
      "source": [
        "here 0b means it's a binary number"
      ]
    },
    {
      "cell_type": "code",
      "metadata": {
        "id": "eMrPj3WtwaPZ",
        "colab_type": "code",
        "colab": {
          "base_uri": "https://localhost:8080/",
          "height": 34
        },
        "outputId": "df9f0224-469b-43da-a71f-64a4944e6190"
      },
      "source": [
        "0b100000"
      ],
      "execution_count": null,
      "outputs": [
        {
          "output_type": "execute_result",
          "data": {
            "text/plain": [
              "32"
            ]
          },
          "metadata": {
            "tags": []
          },
          "execution_count": 31
        }
      ]
    },
    {
      "cell_type": "code",
      "metadata": {
        "id": "908Qfsjawdj4",
        "colab_type": "code",
        "colab": {
          "base_uri": "https://localhost:8080/",
          "height": 35
        },
        "outputId": "b47f3d7f-f40d-42f7-cd76-9df4d2d0b4c3"
      },
      "source": [
        "oct(32)"
      ],
      "execution_count": null,
      "outputs": [
        {
          "output_type": "execute_result",
          "data": {
            "application/vnd.google.colaboratory.intrinsic": {
              "type": "string"
            },
            "text/plain": [
              "'0o40'"
            ]
          },
          "metadata": {
            "tags": []
          },
          "execution_count": 32
        }
      ]
    },
    {
      "cell_type": "code",
      "metadata": {
        "id": "d8CmCJ2swpDH",
        "colab_type": "code",
        "colab": {}
      },
      "source": [
        "0o means it's a octual number"
      ],
      "execution_count": null,
      "outputs": []
    },
    {
      "cell_type": "code",
      "metadata": {
        "id": "obfHIomHwuMf",
        "colab_type": "code",
        "colab": {
          "base_uri": "https://localhost:8080/",
          "height": 35
        },
        "outputId": "8871b463-1577-47ec-8c57-26524a7f049d"
      },
      "source": [
        "hex(32)"
      ],
      "execution_count": null,
      "outputs": [
        {
          "output_type": "execute_result",
          "data": {
            "application/vnd.google.colaboratory.intrinsic": {
              "type": "string"
            },
            "text/plain": [
              "'0x20'"
            ]
          },
          "metadata": {
            "tags": []
          },
          "execution_count": 33
        }
      ]
    },
    {
      "cell_type": "code",
      "metadata": {
        "id": "qdlu21PdwxaY",
        "colab_type": "code",
        "colab": {}
      },
      "source": [
        "0x stands for hexadecimal number"
      ],
      "execution_count": null,
      "outputs": []
    },
    {
      "cell_type": "markdown",
      "metadata": {
        "id": "3BFEMy3Tz1u6",
        "colab_type": "text"
      },
      "source": [
        "SWAPPING TWO VALUES IN PHYTON"
      ]
    },
    {
      "cell_type": "code",
      "metadata": {
        "id": "vxevqvaQz6jX",
        "colab_type": "code",
        "colab": {}
      },
      "source": [
        "a=5\n",
        "b=6"
      ],
      "execution_count": null,
      "outputs": []
    },
    {
      "cell_type": "code",
      "metadata": {
        "id": "ycN1GsLIz9-B",
        "colab_type": "code",
        "colab": {
          "base_uri": "https://localhost:8080/",
          "height": 51
        },
        "outputId": "be28f4e7-cd26-440f-f22f-343a0b835c06"
      },
      "source": [
        "a=a+b\n",
        "b=a-b\n",
        "a=a-b\n",
        "print(a)\n",
        "print(b)"
      ],
      "execution_count": null,
      "outputs": [
        {
          "output_type": "stream",
          "text": [
            "5\n",
            "6\n"
          ],
          "name": "stdout"
        }
      ]
    },
    {
      "cell_type": "markdown",
      "metadata": {
        "id": "HszzogL40LOt",
        "colab_type": "text"
      },
      "source": [
        "this is the one way(not best) that we may swap value without using any temp or extra variable."
      ]
    },
    {
      "cell_type": "code",
      "metadata": {
        "id": "pAKyjXg90Ymf",
        "colab_type": "code",
        "colab": {
          "base_uri": "https://localhost:8080/",
          "height": 51
        },
        "outputId": "8ad7c86b-4e7e-4e56-9bff-5efa520d0c07"
      },
      "source": [
        "a,b=b,a\n",
        "print(a)\n",
        "print(b)\n"
      ],
      "execution_count": null,
      "outputs": [
        {
          "output_type": "stream",
          "text": [
            "6\n",
            "5\n"
          ],
          "name": "stdout"
        }
      ]
    },
    {
      "cell_type": "code",
      "metadata": {
        "id": "vsS0u8qN0eQa",
        "colab_type": "code",
        "colab": {}
      },
      "source": [
        "that's how we can simply swap in phyton."
      ],
      "execution_count": null,
      "outputs": []
    },
    {
      "cell_type": "markdown",
      "metadata": {
        "id": "68bp3ReH4A3e",
        "colab_type": "text"
      },
      "source": [
        "PHYTON BITWISE OPERATION"
      ]
    },
    {
      "cell_type": "code",
      "metadata": {
        "id": "yYHF_-904KW2",
        "colab_type": "code",
        "colab": {
          "base_uri": "https://localhost:8080/",
          "height": 34
        },
        "outputId": "f7c340d3-773a-4b6c-a148-91d6b91c4111"
      },
      "source": [
        "~13"
      ],
      "execution_count": null,
      "outputs": [
        {
          "output_type": "execute_result",
          "data": {
            "text/plain": [
              "-14"
            ]
          },
          "metadata": {
            "tags": []
          },
          "execution_count": 38
        }
      ]
    },
    {
      "cell_type": "markdown",
      "metadata": {
        "id": "jfJ7cfW-4T2d",
        "colab_type": "text"
      },
      "source": [
        "this is called complent operation ."
      ]
    },
    {
      "cell_type": "code",
      "metadata": {
        "id": "cE1R-V8-4hsk",
        "colab_type": "code",
        "colab": {
          "base_uri": "https://localhost:8080/",
          "height": 34
        },
        "outputId": "567a29e0-9316-4cb4-be03-9c73fcb2f2ee"
      },
      "source": [
        "12&13"
      ],
      "execution_count": null,
      "outputs": [
        {
          "output_type": "execute_result",
          "data": {
            "text/plain": [
              "12"
            ]
          },
          "metadata": {
            "tags": []
          },
          "execution_count": 39
        }
      ]
    },
    {
      "cell_type": "markdown",
      "metadata": {
        "id": "wglZ2FCR4l9y",
        "colab_type": "text"
      },
      "source": [
        "this is bitwise and operation .the binary of 12 is 1100 and the binary of 13 is 1101 and we know in and operation when we get both 1 then the answer is 1 otherwise it is 0. as for first two bit it's(0,0)and (0,1) so for that we get 0 and for the other two bit we get (1,1).so the answe is 1100(12)"
      ]
    },
    {
      "cell_type": "code",
      "metadata": {
        "id": "vpTibyp75X9m",
        "colab_type": "code",
        "colab": {
          "base_uri": "https://localhost:8080/",
          "height": 34
        },
        "outputId": "374c055d-46bb-435b-cade-c9f542fa3047"
      },
      "source": [
        "12|13"
      ],
      "execution_count": null,
      "outputs": [
        {
          "output_type": "execute_result",
          "data": {
            "text/plain": [
              "13"
            ]
          },
          "metadata": {
            "tags": []
          },
          "execution_count": 41
        }
      ]
    },
    {
      "cell_type": "markdown",
      "metadata": {
        "id": "-euK6N2B5hsO",
        "colab_type": "text"
      },
      "source": [
        "this is bitwise or."
      ]
    },
    {
      "cell_type": "code",
      "metadata": {
        "id": "DX2SbrKK5lKE",
        "colab_type": "code",
        "colab": {
          "base_uri": "https://localhost:8080/",
          "height": 34
        },
        "outputId": "55ffd5b3-2b6d-4578-8957-8929847ba384"
      },
      "source": [
        "12^13"
      ],
      "execution_count": null,
      "outputs": [
        {
          "output_type": "execute_result",
          "data": {
            "text/plain": [
              "1"
            ]
          },
          "metadata": {
            "tags": []
          },
          "execution_count": 42
        }
      ]
    },
    {
      "cell_type": "markdown",
      "metadata": {
        "id": "6-j4OdUU5pN8",
        "colab_type": "text"
      },
      "source": [
        "this is x-or bitwise operation.for this when both bit are same then we get 0 otherwise we get 1."
      ]
    },
    {
      "cell_type": "code",
      "metadata": {
        "id": "G_TyStUu57dG",
        "colab_type": "code",
        "colab": {
          "base_uri": "https://localhost:8080/",
          "height": 34
        },
        "outputId": "a23ad27e-5d53-4b47-e379-88bb2e692665"
      },
      "source": [
        "25^30"
      ],
      "execution_count": null,
      "outputs": [
        {
          "output_type": "execute_result",
          "data": {
            "text/plain": [
              "7"
            ]
          },
          "metadata": {
            "tags": []
          },
          "execution_count": 43
        }
      ]
    },
    {
      "cell_type": "code",
      "metadata": {
        "id": "Fdhy4ar67tdc",
        "colab_type": "code",
        "colab": {
          "base_uri": "https://localhost:8080/",
          "height": 34
        },
        "outputId": "a6d9f691-b102-4b63-8b2a-8a58eaac3006"
      },
      "source": [
        "10<<2"
      ],
      "execution_count": null,
      "outputs": [
        {
          "output_type": "execute_result",
          "data": {
            "text/plain": [
              "40"
            ]
          },
          "metadata": {
            "tags": []
          },
          "execution_count": 44
        }
      ]
    },
    {
      "cell_type": "markdown",
      "metadata": {
        "id": "A6VKXU9d7wBl",
        "colab_type": "text"
      },
      "source": [
        "this is left shift operation.we can write 10 .so the left shift means we have to add some 0 in it's rigt.so the binary of 10 is 1010 so 10 left shift 2 means we have to add two 0 .so the binary will be like this 101000(40). "
      ]
    },
    {
      "cell_type": "code",
      "metadata": {
        "id": "kkFT-GuV8ci0",
        "colab_type": "code",
        "colab": {
          "base_uri": "https://localhost:8080/",
          "height": 34
        },
        "outputId": "7e5a8be8-3055-4de4-88c4-07f417b1ca3f"
      },
      "source": [
        "10>>2"
      ],
      "execution_count": null,
      "outputs": [
        {
          "output_type": "execute_result",
          "data": {
            "text/plain": [
              "2"
            ]
          },
          "metadata": {
            "tags": []
          },
          "execution_count": 45
        }
      ]
    },
    {
      "cell_type": "markdown",
      "metadata": {
        "id": "CuyrqqrA8lTc",
        "colab_type": "text"
      },
      "source": [
        "this is right shift operation. as the binary of 10 is 1010 and we right shift 2 from 10 .that's why we need to delete 2 bit from rigt.so the answer is 10(2)."
      ]
    },
    {
      "cell_type": "markdown",
      "metadata": {
        "id": "J2p-AHQvoAL-",
        "colab_type": "text"
      },
      "source": [
        "**MATH FUNCTION OF PHYTON**"
      ]
    },
    {
      "cell_type": "markdown",
      "metadata": {
        "id": "mIk_E8t4sgvX",
        "colab_type": "text"
      },
      "source": [
        "as we are working with mathematical term we have to import math."
      ]
    },
    {
      "cell_type": "code",
      "metadata": {
        "id": "EfSEtG6W88gV",
        "colab_type": "code",
        "colab": {
          "base_uri": "https://localhost:8080/",
          "height": 85
        },
        "outputId": "9d0ab32a-f4cf-485a-cb29-2881e5835730"
      },
      "source": [
        "import math\n",
        "print(math.sqrt(25))\n",
        "print(math.factorial(5))\n",
        "print(math.pow(5,3))\n"
      ],
      "execution_count": null,
      "outputs": [
        {
          "output_type": "stream",
          "text": [
            "5.0\n",
            "120\n",
            "125.0\n",
            "False\n"
          ],
          "name": "stdout"
        }
      ]
    },
    {
      "cell_type": "markdown",
      "metadata": {
        "id": "eawq5yDtpHAz",
        "colab_type": "text"
      },
      "source": [
        "as all the writing math is time wasting we can defined it as m or something else."
      ]
    },
    {
      "cell_type": "code",
      "metadata": {
        "id": "IlyukH8Bs1sQ",
        "colab_type": "code",
        "colab": {
          "base_uri": "https://localhost:8080/",
          "height": 51
        },
        "outputId": "75085b5d-2e40-4788-a0ba-b16e892ab3dd"
      },
      "source": [
        "import math as m\n",
        "print(m.floor(2.6))\n",
        "print(m.ceil(2.6))"
      ],
      "execution_count": null,
      "outputs": [
        {
          "output_type": "stream",
          "text": [
            "2\n",
            "3\n"
          ],
          "name": "stdout"
        }
      ]
    },
    {
      "cell_type": "code",
      "metadata": {
        "id": "Zh1Hr5URtK7c",
        "colab_type": "code",
        "colab": {
          "base_uri": "https://localhost:8080/",
          "height": 68
        },
        "outputId": "0247cbf9-255a-4809-92b1-0156c68a77b8"
      },
      "source": [
        "from math import sqrt,factorial,pow\n",
        "print(pow(5,2))\n",
        "print(sqrt(36))\n",
        "print(factorial(10))"
      ],
      "execution_count": null,
      "outputs": [
        {
          "output_type": "stream",
          "text": [
            "25.0\n",
            "6.0\n",
            "3628800\n"
          ],
          "name": "stdout"
        }
      ]
    },
    {
      "cell_type": "code",
      "metadata": {
        "id": "BrlD11NF_myr",
        "colab_type": "code",
        "colab": {
          "base_uri": "https://localhost:8080/",
          "height": 1000
        },
        "outputId": "2e5fc0ab-6e5f-4ff1-a63c-d8e84368aaa7"
      },
      "source": [
        "help('math')"
      ],
      "execution_count": null,
      "outputs": [
        {
          "output_type": "stream",
          "text": [
            "Help on built-in module math:\n",
            "\n",
            "NAME\n",
            "    math\n",
            "\n",
            "DESCRIPTION\n",
            "    This module is always available.  It provides access to the\n",
            "    mathematical functions defined by the C standard.\n",
            "\n",
            "FUNCTIONS\n",
            "    acos(...)\n",
            "        acos(x)\n",
            "        \n",
            "        Return the arc cosine (measured in radians) of x.\n",
            "    \n",
            "    acosh(...)\n",
            "        acosh(x)\n",
            "        \n",
            "        Return the inverse hyperbolic cosine of x.\n",
            "    \n",
            "    asin(...)\n",
            "        asin(x)\n",
            "        \n",
            "        Return the arc sine (measured in radians) of x.\n",
            "    \n",
            "    asinh(...)\n",
            "        asinh(x)\n",
            "        \n",
            "        Return the inverse hyperbolic sine of x.\n",
            "    \n",
            "    atan(...)\n",
            "        atan(x)\n",
            "        \n",
            "        Return the arc tangent (measured in radians) of x.\n",
            "    \n",
            "    atan2(...)\n",
            "        atan2(y, x)\n",
            "        \n",
            "        Return the arc tangent (measured in radians) of y/x.\n",
            "        Unlike atan(y/x), the signs of both x and y are considered.\n",
            "    \n",
            "    atanh(...)\n",
            "        atanh(x)\n",
            "        \n",
            "        Return the inverse hyperbolic tangent of x.\n",
            "    \n",
            "    ceil(...)\n",
            "        ceil(x)\n",
            "        \n",
            "        Return the ceiling of x as an Integral.\n",
            "        This is the smallest integer >= x.\n",
            "    \n",
            "    copysign(...)\n",
            "        copysign(x, y)\n",
            "        \n",
            "        Return a float with the magnitude (absolute value) of x but the sign \n",
            "        of y. On platforms that support signed zeros, copysign(1.0, -0.0) \n",
            "        returns -1.0.\n",
            "    \n",
            "    cos(...)\n",
            "        cos(x)\n",
            "        \n",
            "        Return the cosine of x (measured in radians).\n",
            "    \n",
            "    cosh(...)\n",
            "        cosh(x)\n",
            "        \n",
            "        Return the hyperbolic cosine of x.\n",
            "    \n",
            "    degrees(...)\n",
            "        degrees(x)\n",
            "        \n",
            "        Convert angle x from radians to degrees.\n",
            "    \n",
            "    erf(...)\n",
            "        erf(x)\n",
            "        \n",
            "        Error function at x.\n",
            "    \n",
            "    erfc(...)\n",
            "        erfc(x)\n",
            "        \n",
            "        Complementary error function at x.\n",
            "    \n",
            "    exp(...)\n",
            "        exp(x)\n",
            "        \n",
            "        Return e raised to the power of x.\n",
            "    \n",
            "    expm1(...)\n",
            "        expm1(x)\n",
            "        \n",
            "        Return exp(x)-1.\n",
            "        This function avoids the loss of precision involved in the direct evaluation of exp(x)-1 for small x.\n",
            "    \n",
            "    fabs(...)\n",
            "        fabs(x)\n",
            "        \n",
            "        Return the absolute value of the float x.\n",
            "    \n",
            "    factorial(...)\n",
            "        factorial(x) -> Integral\n",
            "        \n",
            "        Find x!. Raise a ValueError if x is negative or non-integral.\n",
            "    \n",
            "    floor(...)\n",
            "        floor(x)\n",
            "        \n",
            "        Return the floor of x as an Integral.\n",
            "        This is the largest integer <= x.\n",
            "    \n",
            "    fmod(...)\n",
            "        fmod(x, y)\n",
            "        \n",
            "        Return fmod(x, y), according to platform C.  x % y may differ.\n",
            "    \n",
            "    frexp(...)\n",
            "        frexp(x)\n",
            "        \n",
            "        Return the mantissa and exponent of x, as pair (m, e).\n",
            "        m is a float and e is an int, such that x = m * 2.**e.\n",
            "        If x is 0, m and e are both 0.  Else 0.5 <= abs(m) < 1.0.\n",
            "    \n",
            "    fsum(...)\n",
            "        fsum(iterable)\n",
            "        \n",
            "        Return an accurate floating point sum of values in the iterable.\n",
            "        Assumes IEEE-754 floating point arithmetic.\n",
            "    \n",
            "    gamma(...)\n",
            "        gamma(x)\n",
            "        \n",
            "        Gamma function at x.\n",
            "    \n",
            "    gcd(...)\n",
            "        gcd(x, y) -> int\n",
            "        greatest common divisor of x and y\n",
            "    \n",
            "    hypot(...)\n",
            "        hypot(x, y)\n",
            "        \n",
            "        Return the Euclidean distance, sqrt(x*x + y*y).\n",
            "    \n",
            "    isclose(...)\n",
            "        isclose(a, b, *, rel_tol=1e-09, abs_tol=0.0) -> bool\n",
            "        \n",
            "        Determine whether two floating point numbers are close in value.\n",
            "        \n",
            "           rel_tol\n",
            "               maximum difference for being considered \"close\", relative to the\n",
            "               magnitude of the input values\n",
            "            abs_tol\n",
            "               maximum difference for being considered \"close\", regardless of the\n",
            "               magnitude of the input values\n",
            "        \n",
            "        Return True if a is close in value to b, and False otherwise.\n",
            "        \n",
            "        For the values to be considered close, the difference between them\n",
            "        must be smaller than at least one of the tolerances.\n",
            "        \n",
            "        -inf, inf and NaN behave similarly to the IEEE 754 Standard.  That\n",
            "        is, NaN is not close to anything, even itself.  inf and -inf are\n",
            "        only close to themselves.\n",
            "    \n",
            "    isfinite(...)\n",
            "        isfinite(x) -> bool\n",
            "        \n",
            "        Return True if x is neither an infinity nor a NaN, and False otherwise.\n",
            "    \n",
            "    isinf(...)\n",
            "        isinf(x) -> bool\n",
            "        \n",
            "        Return True if x is a positive or negative infinity, and False otherwise.\n",
            "    \n",
            "    isnan(...)\n",
            "        isnan(x) -> bool\n",
            "        \n",
            "        Return True if x is a NaN (not a number), and False otherwise.\n",
            "    \n",
            "    ldexp(...)\n",
            "        ldexp(x, i)\n",
            "        \n",
            "        Return x * (2**i).\n",
            "    \n",
            "    lgamma(...)\n",
            "        lgamma(x)\n",
            "        \n",
            "        Natural logarithm of absolute value of Gamma function at x.\n",
            "    \n",
            "    log(...)\n",
            "        log(x[, base])\n",
            "        \n",
            "        Return the logarithm of x to the given base.\n",
            "        If the base not specified, returns the natural logarithm (base e) of x.\n",
            "    \n",
            "    log10(...)\n",
            "        log10(x)\n",
            "        \n",
            "        Return the base 10 logarithm of x.\n",
            "    \n",
            "    log1p(...)\n",
            "        log1p(x)\n",
            "        \n",
            "        Return the natural logarithm of 1+x (base e).\n",
            "        The result is computed in a way which is accurate for x near zero.\n",
            "    \n",
            "    log2(...)\n",
            "        log2(x)\n",
            "        \n",
            "        Return the base 2 logarithm of x.\n",
            "    \n",
            "    modf(...)\n",
            "        modf(x)\n",
            "        \n",
            "        Return the fractional and integer parts of x.  Both results carry the sign\n",
            "        of x and are floats.\n",
            "    \n",
            "    pow(...)\n",
            "        pow(x, y)\n",
            "        \n",
            "        Return x**y (x to the power of y).\n",
            "    \n",
            "    radians(...)\n",
            "        radians(x)\n",
            "        \n",
            "        Convert angle x from degrees to radians.\n",
            "    \n",
            "    sin(...)\n",
            "        sin(x)\n",
            "        \n",
            "        Return the sine of x (measured in radians).\n",
            "    \n",
            "    sinh(...)\n",
            "        sinh(x)\n",
            "        \n",
            "        Return the hyperbolic sine of x.\n",
            "    \n",
            "    sqrt(...)\n",
            "        sqrt(x)\n",
            "        \n",
            "        Return the square root of x.\n",
            "    \n",
            "    tan(...)\n",
            "        tan(x)\n",
            "        \n",
            "        Return the tangent of x (measured in radians).\n",
            "    \n",
            "    tanh(...)\n",
            "        tanh(x)\n",
            "        \n",
            "        Return the hyperbolic tangent of x.\n",
            "    \n",
            "    trunc(...)\n",
            "        trunc(x:Real) -> Integral\n",
            "        \n",
            "        Truncates x to the nearest Integral toward 0. Uses the __trunc__ magic method.\n",
            "\n",
            "DATA\n",
            "    e = 2.718281828459045\n",
            "    inf = inf\n",
            "    nan = nan\n",
            "    pi = 3.141592653589793\n",
            "    tau = 6.283185307179586\n",
            "\n",
            "FILE\n",
            "    (built-in)\n",
            "\n",
            "\n"
          ],
          "name": "stdout"
        }
      ]
    },
    {
      "cell_type": "markdown",
      "metadata": {
        "id": "VXjgKz9wWx5j",
        "colab_type": "text"
      },
      "source": [
        "**USER INPUT IN PHYTON**"
      ]
    },
    {
      "cell_type": "code",
      "metadata": {
        "id": "kZWqH46wW8Jp",
        "colab_type": "code",
        "colab": {
          "base_uri": "https://localhost:8080/",
          "height": 68
        },
        "outputId": "997472bc-8817-4181-8c6e-1166ba23ab7f"
      },
      "source": [
        "x=input('Enter a number')\n",
        "y=input('enter a number')\n",
        "sum=x+y \n",
        "print('Sum: ',sum) "
      ],
      "execution_count": null,
      "outputs": [
        {
          "output_type": "stream",
          "text": [
            "Enter a number5\n",
            "enter a number4\n",
            "Sum:  54\n"
          ],
          "name": "stdout"
        }
      ]
    },
    {
      "cell_type": "markdown",
      "metadata": {
        "id": "JM7lOWdAdj-5",
        "colab_type": "text"
      },
      "source": [
        "It will not adding two number but it may like concating two string.That's true.Because input function take input as string.so we have typecat it into int"
      ]
    },
    {
      "cell_type": "code",
      "metadata": {
        "id": "TNZY5-zgq6Oh",
        "colab_type": "code",
        "colab": {
          "base_uri": "https://localhost:8080/",
          "height": 68
        },
        "outputId": "dec68c4c-e33d-4c52-a5f4-e5fa0b85bea6"
      },
      "source": [
        "x=int(input('Enter a number '))\n",
        "y=int(input('Enter a number '))\n",
        "sum=x+y\n",
        "print('sum: ',sum)"
      ],
      "execution_count": null,
      "outputs": [
        {
          "output_type": "stream",
          "text": [
            "Enter a number 10\n",
            "Enter a number 40\n",
            "sum:  50\n"
          ],
          "name": "stdout"
        }
      ]
    },
    {
      "cell_type": "markdown",
      "metadata": {
        "id": "czIGj9G_vV9l",
        "colab_type": "text"
      },
      "source": [
        "by using it we can only use one char."
      ]
    },
    {
      "cell_type": "code",
      "metadata": {
        "id": "0JMcS67wvATn",
        "colab_type": "code",
        "colab": {
          "base_uri": "https://localhost:8080/",
          "height": 51
        },
        "outputId": "ce849c78-73dc-4e60-cf4a-05dfefe87ed2"
      },
      "source": [
        "ch=input('Enter a char')[0]\n",
        "print(ch)"
      ],
      "execution_count": null,
      "outputs": [
        {
          "output_type": "stream",
          "text": [
            "Enter a charpjshsusj\n",
            "p\n"
          ],
          "name": "stdout"
        }
      ]
    },
    {
      "cell_type": "markdown",
      "metadata": {
        "id": "F3DhyqHovbjL",
        "colab_type": "text"
      },
      "source": [
        "by using eval function we can evalute an mathmetical expression"
      ]
    },
    {
      "cell_type": "code",
      "metadata": {
        "id": "Wfc2FdPZvasU",
        "colab_type": "code",
        "colab": {
          "base_uri": "https://localhost:8080/",
          "height": 51
        },
        "outputId": "2ecba0fe-a99e-4614-cd43-5cf4db888c91"
      },
      "source": [
        "result=eval(input('enter an expression '))\n",
        "print(result)"
      ],
      "execution_count": null,
      "outputs": [
        {
          "output_type": "stream",
          "text": [
            "enter an expression 10*10-25+10\n",
            "85\n"
          ],
          "name": "stdout"
        }
      ]
    },
    {
      "cell_type": "markdown",
      "metadata": {
        "id": "5bKkBIk3zmQE",
        "colab_type": "text"
      },
      "source": [
        "**IF ELSE AND ELIF CONDITION IN PHYTON**"
      ]
    },
    {
      "cell_type": "code",
      "metadata": {
        "id": "tXam0Ok-zvwf",
        "colab_type": "code",
        "colab": {
          "base_uri": "https://localhost:8080/",
          "height": 51
        },
        "outputId": "db0e2a28-5fb0-427e-eac7-791fb68ef535"
      },
      "source": [
        "x=5\n",
        "if(x%2==0):\n",
        "  print('even')\n",
        "  print('yeah')\n",
        "else:\n",
        "  print('odd')\n",
        "  print('wow')  "
      ],
      "execution_count": null,
      "outputs": [
        {
          "output_type": "stream",
          "text": [
            "odd\n",
            "wow\n"
          ],
          "name": "stdout"
        }
      ]
    },
    {
      "cell_type": "markdown",
      "metadata": {
        "id": "4N9Dj1zs0J6P",
        "colab_type": "text"
      },
      "source": [
        "Here it's printing odd and wow beacuse 5 is odd so else is true and two print in the same spaceing."
      ]
    },
    {
      "cell_type": "code",
      "metadata": {
        "id": "H6ReViHl0Wgn",
        "colab_type": "code",
        "colab": {
          "base_uri": "https://localhost:8080/",
          "height": 51
        },
        "outputId": "2f262c00-dbd0-45fe-e508-07b881100ecc"
      },
      "source": [
        "x=4\n",
        "if(x%2==0):\n",
        "  print('even')\n",
        "else:\n",
        "  print('odd')\n",
        "print('wow')  "
      ],
      "execution_count": null,
      "outputs": [
        {
          "output_type": "stream",
          "text": [
            "even\n",
            "wow\n"
          ],
          "name": "stdout"
        }
      ]
    },
    {
      "cell_type": "markdown",
      "metadata": {
        "id": "aIpKe79U0rKN",
        "colab_type": "text"
      },
      "source": [
        "As 4 is even number it have to print only even but why it;s printing wow because the last print line in not in same spacing as other two print.so it is outside of if -else statement."
      ]
    },
    {
      "cell_type": "code",
      "metadata": {
        "id": "-jeTh9AS1Esa",
        "colab_type": "code",
        "colab": {
          "base_uri": "https://localhost:8080/",
          "height": 34
        },
        "outputId": "bd11a209-2190-4595-9852-9a9d850d41b8"
      },
      "source": [
        "x=2\n",
        "if(x==1):\n",
        "  print('one')\n",
        "elif(x==2):\n",
        "    print('two')\n"
      ],
      "execution_count": null,
      "outputs": [
        {
          "output_type": "stream",
          "text": [
            "two\n"
          ],
          "name": "stdout"
        }
      ]
    },
    {
      "cell_type": "markdown",
      "metadata": {
        "id": "ctowOR7e1aqt",
        "colab_type": "text"
      },
      "source": [
        "elif only works when the previous statement is false .if the statement is true then it excicude the statement and close the program."
      ]
    },
    {
      "cell_type": "markdown",
      "metadata": {
        "id": "EWdOjBHNEKM9",
        "colab_type": "text"
      },
      "source": [
        "***WHILE LOOP***"
      ]
    },
    {
      "cell_type": "code",
      "metadata": {
        "id": "_JYi-bacERLZ",
        "colab_type": "code",
        "colab": {
          "base_uri": "https://localhost:8080/",
          "height": 102
        },
        "outputId": "72a20da5-d0b1-49b5-c236-84d8b32d391f"
      },
      "source": [
        "i=1\n",
        "while i<=5:\n",
        "  print(\"Hello world\")\n",
        "  i+=1"
      ],
      "execution_count": null,
      "outputs": [
        {
          "output_type": "stream",
          "text": [
            "Hello world\n",
            "Hello world\n",
            "Hello world\n",
            "Hello world\n",
            "Hello world\n"
          ],
          "name": "stdout"
        }
      ]
    },
    {
      "cell_type": "markdown",
      "metadata": {
        "id": "yAiR1epDEyYN",
        "colab_type": "text"
      },
      "source": [
        "nested while loop"
      ]
    },
    {
      "cell_type": "code",
      "metadata": {
        "id": "JXzOqen_E1s-",
        "colab_type": "code",
        "colab": {
          "base_uri": "https://localhost:8080/",
          "height": 187
        },
        "outputId": "ddf8c6e0-902c-4bdb-ef20-0c23d0b2e6d2"
      },
      "source": [
        "i=1\n",
        "while i<=5:\n",
        "  print('you are',end='')\n",
        "  i+=1\n",
        "  j=1\n",
        "  while j<=2:\n",
        "    print(' cute',end='')\n",
        "    j=j+1\n",
        "  print('\\n')"
      ],
      "execution_count": null,
      "outputs": [
        {
          "output_type": "stream",
          "text": [
            "you are cute cute\n",
            "\n",
            "you are cute cute\n",
            "\n",
            "you are cute cute\n",
            "\n",
            "you are cute cute\n",
            "\n",
            "you are cute cute\n",
            "\n"
          ],
          "name": "stdout"
        }
      ]
    },
    {
      "cell_type": "markdown",
      "metadata": {
        "id": "a1Ror9ilW8HV",
        "colab_type": "text"
      },
      "source": [
        "end='' is for to print it in a line"
      ]
    },
    {
      "cell_type": "code",
      "metadata": {
        "id": "OLOSYgujW0m1",
        "colab_type": "code",
        "colab": {
          "base_uri": "https://localhost:8080/",
          "height": 374
        },
        "outputId": "9db7d191-2df2-4244-be10-7db78607d46f"
      },
      "source": [
        "help('while')"
      ],
      "execution_count": null,
      "outputs": [
        {
          "output_type": "stream",
          "text": [
            "The \"while\" statement\n",
            "*********************\n",
            "\n",
            "The \"while\" statement is used for repeated execution as long as an\n",
            "expression is true:\n",
            "\n",
            "   while_stmt ::= \"while\" expression \":\" suite\n",
            "                  [\"else\" \":\" suite]\n",
            "\n",
            "This repeatedly tests the expression and, if it is true, executes the\n",
            "first suite; if the expression is false (which may be the first time\n",
            "it is tested) the suite of the \"else\" clause, if present, is executed\n",
            "and the loop terminates.\n",
            "\n",
            "A \"break\" statement executed in the first suite terminates the loop\n",
            "without executing the \"else\" clause’s suite.  A \"continue\" statement\n",
            "executed in the first suite skips the rest of the suite and goes back\n",
            "to testing the expression.\n",
            "\n",
            "Related help topics: break, continue, if, TRUTHVALUE\n",
            "\n"
          ],
          "name": "stdout"
        }
      ]
    },
    {
      "cell_type": "markdown",
      "metadata": {
        "id": "prCznWpnauvz",
        "colab_type": "text"
      },
      "source": [
        "**FOR LOOP IN PHYTON**"
      ]
    },
    {
      "cell_type": "code",
      "metadata": {
        "id": "Y_q8fhVaXEtC",
        "colab_type": "code",
        "colab": {
          "base_uri": "https://localhost:8080/",
          "height": 102
        },
        "outputId": "7211dd26-37b2-4192-d1f1-3819cec09f2e"
      },
      "source": [
        "x=[5.5,5,'sakib','a',4.00]\n",
        "for i in x:\n",
        "  print(i)"
      ],
      "execution_count": null,
      "outputs": [
        {
          "output_type": "stream",
          "text": [
            "5.5\n",
            "5\n",
            "sakib\n",
            "a\n",
            "4.0\n"
          ],
          "name": "stdout"
        }
      ]
    },
    {
      "cell_type": "code",
      "metadata": {
        "id": "nMSm8RAybG6D",
        "colab_type": "code",
        "colab": {
          "base_uri": "https://localhost:8080/",
          "height": 187
        },
        "outputId": "4b5f73ed-7390-4b76-ee43-cdffce3b522c"
      },
      "source": [
        "for i in range(10):\n",
        "  print(i)"
      ],
      "execution_count": null,
      "outputs": [
        {
          "output_type": "stream",
          "text": [
            "0\n",
            "1\n",
            "2\n",
            "3\n",
            "4\n",
            "5\n",
            "6\n",
            "7\n",
            "8\n",
            "9\n"
          ],
          "name": "stdout"
        }
      ]
    },
    {
      "cell_type": "code",
      "metadata": {
        "id": "ZbfeunAlbPx6",
        "colab_type": "code",
        "colab": {
          "base_uri": "https://localhost:8080/",
          "height": 102
        },
        "outputId": "13b64e52-e9aa-41ca-c3a4-8c4efbe1c1b0"
      },
      "source": [
        "for i in range(10,15,1):\n",
        "  print(i)"
      ],
      "execution_count": null,
      "outputs": [
        {
          "output_type": "stream",
          "text": [
            "10\n",
            "11\n",
            "12\n",
            "13\n",
            "14\n"
          ],
          "name": "stdout"
        }
      ]
    },
    {
      "cell_type": "code",
      "metadata": {
        "id": "RjFjEd_vbYVj",
        "colab_type": "code",
        "colab": {
          "base_uri": "https://localhost:8080/",
          "height": 68
        },
        "outputId": "9898904a-d5b8-47b1-8c5c-38799006c811"
      },
      "source": [
        "for i in range(10,15,2):\n",
        "  print(i)"
      ],
      "execution_count": null,
      "outputs": [
        {
          "output_type": "stream",
          "text": [
            "10\n",
            "12\n",
            "14\n"
          ],
          "name": "stdout"
        }
      ]
    },
    {
      "cell_type": "code",
      "metadata": {
        "id": "TY6yE2MkbfgE",
        "colab_type": "code",
        "colab": {
          "base_uri": "https://localhost:8080/",
          "height": 129
        },
        "outputId": "fc4dd2f8-d94f-41c7-82e5-f98d2551270f"
      },
      "source": [
        "for i in range(20,10,1):\n",
        "print(i)"
      ],
      "execution_count": null,
      "outputs": [
        {
          "output_type": "error",
          "ename": "IndentationError",
          "evalue": "ignored",
          "traceback": [
            "\u001b[0;36m  File \u001b[0;32m\"<ipython-input-8-501240634e27>\"\u001b[0;36m, line \u001b[0;32m2\u001b[0m\n\u001b[0;31m    print(i)\u001b[0m\n\u001b[0m        ^\u001b[0m\n\u001b[0;31mIndentationError\u001b[0m\u001b[0;31m:\u001b[0m expected an indented block\n"
          ]
        }
      ]
    },
    {
      "cell_type": "markdown",
      "metadata": {
        "id": "G0URFoLubmCk",
        "colab_type": "text"
      },
      "source": [
        "we use range as an condition.but range cann't be print in reverse order."
      ]
    },
    {
      "cell_type": "code",
      "metadata": {
        "id": "KNQiuJYxb0mr",
        "colab_type": "code",
        "colab": {
          "base_uri": "https://localhost:8080/",
          "height": 102
        },
        "outputId": "94979a57-79c6-4f25-c38d-dd60575d1e30"
      },
      "source": [
        "for i in range(20,10,-2):\n",
        "  print(i)"
      ],
      "execution_count": null,
      "outputs": [
        {
          "output_type": "stream",
          "text": [
            "20\n",
            "18\n",
            "16\n",
            "14\n",
            "12\n"
          ],
          "name": "stdout"
        }
      ]
    },
    {
      "cell_type": "code",
      "metadata": {
        "id": "nqQ9yND8cHdl",
        "colab_type": "code",
        "colab": {
          "base_uri": "https://localhost:8080/",
          "height": 102
        },
        "outputId": "f57d8af5-afeb-441c-df79-57aeff7a0052"
      },
      "source": [
        "for i in range(10,20):\n",
        "  if(i%2==0):\n",
        "    print(i)"
      ],
      "execution_count": null,
      "outputs": [
        {
          "output_type": "stream",
          "text": [
            "10\n",
            "12\n",
            "14\n",
            "16\n",
            "18\n"
          ],
          "name": "stdout"
        }
      ]
    },
    {
      "cell_type": "markdown",
      "metadata": {
        "id": "sLG-g9k-i-x6",
        "colab_type": "text"
      },
      "source": [
        "Break,Continue and pass in phyton"
      ]
    },
    {
      "cell_type": "code",
      "metadata": {
        "id": "UklIsa68i526",
        "colab_type": "code",
        "colab": {
          "base_uri": "https://localhost:8080/",
          "height": 153
        },
        "outputId": "5b33ca94-d7fe-44bc-f18c-b6af9f6228da"
      },
      "source": [
        "avg=5\n",
        "x=int(input('enter how many you want'))\n",
        "for i in range(1,x):\n",
        "  if i>avg:\n",
        "    print('sorry out of stock')\n",
        "    break;\n",
        "  print(i)\n",
        "print('bye')\n"
      ],
      "execution_count": null,
      "outputs": [
        {
          "output_type": "stream",
          "text": [
            "enter how many you want10\n",
            "1\n",
            "2\n",
            "3\n",
            "4\n",
            "5\n",
            "sorry out of stock\n",
            "bye\n"
          ],
          "name": "stdout"
        }
      ]
    },
    {
      "cell_type": "code",
      "metadata": {
        "id": "da84ZETZrZAE",
        "colab_type": "code",
        "colab": {
          "base_uri": "https://localhost:8080/",
          "height": 289
        },
        "outputId": "a8bc67a2-5700-4009-d565-10ea2c886f20"
      },
      "source": [
        "for i in range(1,20):\n",
        "  if(i%5==0):\n",
        "    continue\n",
        "  print(i)"
      ],
      "execution_count": null,
      "outputs": [
        {
          "output_type": "stream",
          "text": [
            "1\n",
            "2\n",
            "3\n",
            "4\n",
            "6\n",
            "7\n",
            "8\n",
            "9\n",
            "11\n",
            "12\n",
            "13\n",
            "14\n",
            "16\n",
            "17\n",
            "18\n",
            "19\n"
          ],
          "name": "stdout"
        }
      ]
    },
    {
      "cell_type": "code",
      "metadata": {
        "id": "vXq9yY-ZsSg_",
        "colab_type": "code",
        "colab": {
          "base_uri": "https://localhost:8080/",
          "height": 85
        },
        "outputId": "ef21cd4c-d42a-4463-d674-bf73184eaf7e"
      },
      "source": [
        "for i in range(1,10):\n",
        "  if(i%2!=0):\n",
        "    pass\n",
        "  else:\n",
        "    print(i)"
      ],
      "execution_count": null,
      "outputs": [
        {
          "output_type": "stream",
          "text": [
            "2\n",
            "4\n",
            "6\n",
            "8\n"
          ],
          "name": "stdout"
        }
      ]
    },
    {
      "cell_type": "code",
      "metadata": {
        "id": "2W2AwtnKBra7",
        "colab_type": "code",
        "colab": {
          "base_uri": "https://localhost:8080/",
          "height": 187
        },
        "outputId": "e0aa0084-7f0a-403c-c507-ada7e70b6d04"
      },
      "source": [
        "for i in range(5):\n",
        "  j=1\n",
        "  for j in range(i):\n",
        "    print('*',end='')\n",
        "  print('\\n')"
      ],
      "execution_count": null,
      "outputs": [
        {
          "output_type": "stream",
          "text": [
            "\n",
            "\n",
            "*\n",
            "\n",
            "**\n",
            "\n",
            "***\n",
            "\n",
            "****\n",
            "\n"
          ],
          "name": "stdout"
        }
      ]
    },
    {
      "cell_type": "code",
      "metadata": {
        "id": "T_wOrBvpC2Ay",
        "colab_type": "code",
        "colab": {
          "base_uri": "https://localhost:8080/",
          "height": 102
        },
        "outputId": "ad372d54-da43-45ae-8e13-33fda3dde565"
      },
      "source": [
        "for i in range(5,0,-1):\n",
        "  j=1\n",
        "  for j in range(i):\n",
        "    print('*',end='')\n",
        "  print()"
      ],
      "execution_count": null,
      "outputs": [
        {
          "output_type": "stream",
          "text": [
            "*****\n",
            "****\n",
            "***\n",
            "**\n",
            "*\n"
          ],
          "name": "stdout"
        }
      ]
    },
    {
      "cell_type": "markdown",
      "metadata": {
        "id": "bZISAeN_gV7C",
        "colab_type": "text"
      },
      "source": [
        "FOR-ELSE IN PHYTON:suppose we are trying to print the value from set that are divisible by 5 and if it is not found than print 'not found'"
      ]
    },
    {
      "cell_type": "code",
      "metadata": {
        "id": "5nj5nObKgaor",
        "colab_type": "code",
        "colab": {
          "base_uri": "https://localhost:8080/",
          "height": 102
        },
        "outputId": "f21e7600-0a80-49f7-f5b1-1fe6a433a940"
      },
      "source": [
        "s=[12,13,14,16,18]\n",
        "for i in s:\n",
        "  if i%5==0:\n",
        "    print(i)\n",
        "  else:\n",
        "    print(\"not found\")"
      ],
      "execution_count": null,
      "outputs": [
        {
          "output_type": "stream",
          "text": [
            "not found\n",
            "not found\n",
            "not found\n",
            "not found\n",
            "not found\n"
          ],
          "name": "stdout"
        }
      ]
    },
    {
      "cell_type": "markdown",
      "metadata": {
        "id": "gDQMnAxwhYIf",
        "colab_type": "text"
      },
      "source": [
        "but it is printing not found for 4 times and this like wierd.so we would like to print it 1 time"
      ]
    },
    {
      "cell_type": "code",
      "metadata": {
        "id": "UUvl9rvY4xWT",
        "colab_type": "code",
        "colab": {
          "base_uri": "https://localhost:8080/",
          "height": 34
        },
        "outputId": "19617c82-e64c-48d5-90f7-0f5fffc2a114"
      },
      "source": [
        "s=[12,13,14,16,18]\n",
        "for i in s:\n",
        "  if i%5==0:\n",
        "    print(i)\n",
        "else:\n",
        "  print(\"not found\")"
      ],
      "execution_count": null,
      "outputs": [
        {
          "output_type": "stream",
          "text": [
            "not found\n"
          ],
          "name": "stdout"
        }
      ]
    },
    {
      "cell_type": "markdown",
      "metadata": {
        "id": "f-YUbhst-kk8",
        "colab_type": "text"
      },
      "source": [
        "**PRIME NUMBER**"
      ]
    },
    {
      "cell_type": "code",
      "metadata": {
        "id": "ZnB3vZyY-qM6",
        "colab_type": "code",
        "colab": {
          "base_uri": "https://localhost:8080/",
          "height": 51
        },
        "outputId": "bf4df337-8272-4a26-bb0d-70e1ed3c8355"
      },
      "source": [
        "x=int(input('Enter a number: '))\n",
        "y=int(x/2)\n",
        "for i in range(2,y):\n",
        "  if(x%i==0):\n",
        "    print('Not Prime Number')\n",
        "    break;\n",
        "else:\n",
        "  print('Prime number')\n"
      ],
      "execution_count": null,
      "outputs": [
        {
          "output_type": "stream",
          "text": [
            "Enter a number: 47\n",
            "Prime number\n"
          ],
          "name": "stdout"
        }
      ]
    },
    {
      "cell_type": "markdown",
      "metadata": {
        "id": "PYtZ-IzaoboZ",
        "colab_type": "text"
      },
      "source": [
        "**ARRAYS IN PHYTON**"
      ]
    },
    {
      "cell_type": "code",
      "metadata": {
        "id": "5AOF6F3Uofz_",
        "colab_type": "code",
        "colab": {
          "base_uri": "https://localhost:8080/",
          "height": 34
        },
        "outputId": "db4fe361-5dcd-4073-c635-93bacbcc45d3"
      },
      "source": [
        "from array import *\n",
        "arr=array('i',[12,13,-14,15])\n",
        "arr"
      ],
      "execution_count": null,
      "outputs": [
        {
          "output_type": "execute_result",
          "data": {
            "text/plain": [
              "array('i', [12, 13, -14, 15])"
            ]
          },
          "metadata": {
            "tags": []
          },
          "execution_count": 15
        }
      ]
    },
    {
      "cell_type": "code",
      "metadata": {
        "id": "KDqYH6Lerarg",
        "colab_type": "code",
        "colab": {
          "base_uri": "https://localhost:8080/",
          "height": 1000
        },
        "outputId": "4e3a08fb-7f45-4f55-a0ad-59bf72ad0614"
      },
      "source": [
        "help('array')"
      ],
      "execution_count": null,
      "outputs": [
        {
          "output_type": "stream",
          "text": [
            "Help on built-in module array:\n",
            "\n",
            "NAME\n",
            "    array\n",
            "\n",
            "DESCRIPTION\n",
            "    This module defines an object type which can efficiently represent\n",
            "    an array of basic values: characters, integers, floating point\n",
            "    numbers.  Arrays are sequence types and behave very much like lists,\n",
            "    except that the type of objects stored in them is constrained.\n",
            "\n",
            "CLASSES\n",
            "    builtins.object\n",
            "        array\n",
            "    \n",
            "    ArrayType = class array(builtins.object)\n",
            "     |  array(typecode [, initializer]) -> array\n",
            "     |  \n",
            "     |  Return a new array whose items are restricted by typecode, and\n",
            "     |  initialized from the optional initializer value, which must be a list,\n",
            "     |  string or iterable over elements of the appropriate type.\n",
            "     |  \n",
            "     |  Arrays represent basic values and behave very much like lists, except\n",
            "     |  the type of objects stored in them is constrained. The type is specified\n",
            "     |  at object creation time by using a type code, which is a single character.\n",
            "     |  The following type codes are defined:\n",
            "     |  \n",
            "     |      Type code   C Type             Minimum size in bytes \n",
            "     |      'b'         signed integer     1 \n",
            "     |      'B'         unsigned integer   1 \n",
            "     |      'u'         Unicode character  2 (see note) \n",
            "     |      'h'         signed integer     2 \n",
            "     |      'H'         unsigned integer   2 \n",
            "     |      'i'         signed integer     2 \n",
            "     |      'I'         unsigned integer   2 \n",
            "     |      'l'         signed integer     4 \n",
            "     |      'L'         unsigned integer   4 \n",
            "     |      'q'         signed integer     8 (see note) \n",
            "     |      'Q'         unsigned integer   8 (see note) \n",
            "     |      'f'         floating point     4 \n",
            "     |      'd'         floating point     8 \n",
            "     |  \n",
            "     |  NOTE: The 'u' typecode corresponds to Python's unicode character. On \n",
            "     |  narrow builds this is 2-bytes on wide builds this is 4-bytes.\n",
            "     |  \n",
            "     |  NOTE: The 'q' and 'Q' type codes are only available if the platform \n",
            "     |  C compiler used to build Python supports 'long long', or, on Windows, \n",
            "     |  '__int64'.\n",
            "     |  \n",
            "     |  Methods:\n",
            "     |  \n",
            "     |  append() -- append a new item to the end of the array\n",
            "     |  buffer_info() -- return information giving the current memory info\n",
            "     |  byteswap() -- byteswap all the items of the array\n",
            "     |  count() -- return number of occurrences of an object\n",
            "     |  extend() -- extend array by appending multiple elements from an iterable\n",
            "     |  fromfile() -- read items from a file object\n",
            "     |  fromlist() -- append items from the list\n",
            "     |  frombytes() -- append items from the string\n",
            "     |  index() -- return index of first occurrence of an object\n",
            "     |  insert() -- insert a new item into the array at a provided position\n",
            "     |  pop() -- remove and return item (default last)\n",
            "     |  remove() -- remove first occurrence of an object\n",
            "     |  reverse() -- reverse the order of the items in the array\n",
            "     |  tofile() -- write all items to a file object\n",
            "     |  tolist() -- return the array converted to an ordinary list\n",
            "     |  tobytes() -- return the array converted to a string\n",
            "     |  \n",
            "     |  Attributes:\n",
            "     |  \n",
            "     |  typecode -- the typecode character used to create the array\n",
            "     |  itemsize -- the length in bytes of one array item\n",
            "     |  \n",
            "     |  Methods defined here:\n",
            "     |  \n",
            "     |  __add__(self, value, /)\n",
            "     |      Return self+value.\n",
            "     |  \n",
            "     |  __contains__(self, key, /)\n",
            "     |      Return key in self.\n",
            "     |  \n",
            "     |  __copy__(self, /)\n",
            "     |      Return a copy of the array.\n",
            "     |  \n",
            "     |  __deepcopy__(self, unused, /)\n",
            "     |      Return a copy of the array.\n",
            "     |  \n",
            "     |  __delitem__(self, key, /)\n",
            "     |      Delete self[key].\n",
            "     |  \n",
            "     |  __eq__(self, value, /)\n",
            "     |      Return self==value.\n",
            "     |  \n",
            "     |  __ge__(self, value, /)\n",
            "     |      Return self>=value.\n",
            "     |  \n",
            "     |  __getattribute__(self, name, /)\n",
            "     |      Return getattr(self, name).\n",
            "     |  \n",
            "     |  __getitem__(self, key, /)\n",
            "     |      Return self[key].\n",
            "     |  \n",
            "     |  __gt__(self, value, /)\n",
            "     |      Return self>value.\n",
            "     |  \n",
            "     |  __iadd__(self, value, /)\n",
            "     |      Implement self+=value.\n",
            "     |  \n",
            "     |  __imul__(self, value, /)\n",
            "     |      Implement self*=value.\n",
            "     |  \n",
            "     |  __iter__(self, /)\n",
            "     |      Implement iter(self).\n",
            "     |  \n",
            "     |  __le__(self, value, /)\n",
            "     |      Return self<=value.\n",
            "     |  \n",
            "     |  __len__(self, /)\n",
            "     |      Return len(self).\n",
            "     |  \n",
            "     |  __lt__(self, value, /)\n",
            "     |      Return self<value.\n",
            "     |  \n",
            "     |  __mul__(self, value, /)\n",
            "     |      Return self*value.\n",
            "     |  \n",
            "     |  __ne__(self, value, /)\n",
            "     |      Return self!=value.\n",
            "     |  \n",
            "     |  __new__(*args, **kwargs) from builtins.type\n",
            "     |      Create and return a new object.  See help(type) for accurate signature.\n",
            "     |  \n",
            "     |  __reduce_ex__(self, value, /)\n",
            "     |      Return state information for pickling.\n",
            "     |  \n",
            "     |  __repr__(self, /)\n",
            "     |      Return repr(self).\n",
            "     |  \n",
            "     |  __rmul__(self, value, /)\n",
            "     |      Return value*self.\n",
            "     |  \n",
            "     |  __setitem__(self, key, value, /)\n",
            "     |      Set self[key] to value.\n",
            "     |  \n",
            "     |  __sizeof__(self, /)\n",
            "     |      Size of the array in memory, in bytes.\n",
            "     |  \n",
            "     |  append(self, v, /)\n",
            "     |      Append new value v to the end of the array.\n",
            "     |  \n",
            "     |  buffer_info(self, /)\n",
            "     |      Return a tuple (address, length) giving the current memory address and the length in items of the buffer used to hold array's contents.\n",
            "     |      \n",
            "     |      The length should be multiplied by the itemsize attribute to calculate\n",
            "     |      the buffer length in bytes.\n",
            "     |  \n",
            "     |  byteswap(self, /)\n",
            "     |      Byteswap all items of the array.\n",
            "     |      \n",
            "     |      If the items in the array are not 1, 2, 4, or 8 bytes in size, RuntimeError is\n",
            "     |      raised.\n",
            "     |  \n",
            "     |  count(self, v, /)\n",
            "     |      Return number of occurrences of v in the array.\n",
            "     |  \n",
            "     |  extend(self, bb, /)\n",
            "     |      Append items to the end of the array.\n",
            "     |  \n",
            "     |  frombytes(self, buffer, /)\n",
            "     |      Appends items from the string, interpreting it as an array of machine values, as if it had been read from a file using the fromfile() method).\n",
            "     |  \n",
            "     |  fromfile(self, f, n, /)\n",
            "     |      Read n objects from the file object f and append them to the end of the array.\n",
            "     |  \n",
            "     |  fromlist(self, list, /)\n",
            "     |      Append items to array from list.\n",
            "     |  \n",
            "     |  fromstring(self, buffer, /)\n",
            "     |      Appends items from the string, interpreting it as an array of machine values, as if it had been read from a file using the fromfile() method).\n",
            "     |      \n",
            "     |      This method is deprecated. Use frombytes instead.\n",
            "     |  \n",
            "     |  fromunicode(self, ustr, /)\n",
            "     |      Extends this array with data from the unicode string ustr.\n",
            "     |      \n",
            "     |      The array must be a unicode type array; otherwise a ValueError is raised.\n",
            "     |      Use array.frombytes(ustr.encode(...)) to append Unicode data to an array of\n",
            "     |      some other type.\n",
            "     |  \n",
            "     |  index(self, v, /)\n",
            "     |      Return index of first occurrence of v in the array.\n",
            "     |  \n",
            "     |  insert(self, i, v, /)\n",
            "     |      Insert a new item v into the array before position i.\n",
            "     |  \n",
            "     |  pop(self, i=-1, /)\n",
            "     |      Return the i-th element and delete it from the array.\n",
            "     |      \n",
            "     |      i defaults to -1.\n",
            "     |  \n",
            "     |  remove(self, v, /)\n",
            "     |      Remove the first occurrence of v in the array.\n",
            "     |  \n",
            "     |  reverse(self, /)\n",
            "     |      Reverse the order of the items in the array.\n",
            "     |  \n",
            "     |  tobytes(self, /)\n",
            "     |      Convert the array to an array of machine values and return the bytes representation.\n",
            "     |  \n",
            "     |  tofile(self, f, /)\n",
            "     |      Write all items (as machine values) to the file object f.\n",
            "     |  \n",
            "     |  tolist(self, /)\n",
            "     |      Convert array to an ordinary list with the same items.\n",
            "     |  \n",
            "     |  tostring(self, /)\n",
            "     |      Convert the array to an array of machine values and return the bytes representation.\n",
            "     |      \n",
            "     |      This method is deprecated. Use tobytes instead.\n",
            "     |  \n",
            "     |  tounicode(self, /)\n",
            "     |      Extends this array with data from the unicode string ustr.\n",
            "     |      \n",
            "     |      Convert the array to a unicode string.  The array must be a unicode type array;\n",
            "     |      otherwise a ValueError is raised.  Use array.tobytes().decode() to obtain a\n",
            "     |      unicode string from an array of some other type.\n",
            "     |  \n",
            "     |  ----------------------------------------------------------------------\n",
            "     |  Data descriptors defined here:\n",
            "     |  \n",
            "     |  itemsize\n",
            "     |      the size, in bytes, of one array item\n",
            "     |  \n",
            "     |  typecode\n",
            "     |      the typecode character used to create the array\n",
            "     |  \n",
            "     |  ----------------------------------------------------------------------\n",
            "     |  Data and other attributes defined here:\n",
            "     |  \n",
            "     |  __hash__ = None\n",
            "    \n",
            "    class array(builtins.object)\n",
            "     |  array(typecode [, initializer]) -> array\n",
            "     |  \n",
            "     |  Return a new array whose items are restricted by typecode, and\n",
            "     |  initialized from the optional initializer value, which must be a list,\n",
            "     |  string or iterable over elements of the appropriate type.\n",
            "     |  \n",
            "     |  Arrays represent basic values and behave very much like lists, except\n",
            "     |  the type of objects stored in them is constrained. The type is specified\n",
            "     |  at object creation time by using a type code, which is a single character.\n",
            "     |  The following type codes are defined:\n",
            "     |  \n",
            "     |      Type code   C Type             Minimum size in bytes \n",
            "     |      'b'         signed integer     1 \n",
            "     |      'B'         unsigned integer   1 \n",
            "     |      'u'         Unicode character  2 (see note) \n",
            "     |      'h'         signed integer     2 \n",
            "     |      'H'         unsigned integer   2 \n",
            "     |      'i'         signed integer     2 \n",
            "     |      'I'         unsigned integer   2 \n",
            "     |      'l'         signed integer     4 \n",
            "     |      'L'         unsigned integer   4 \n",
            "     |      'q'         signed integer     8 (see note) \n",
            "     |      'Q'         unsigned integer   8 (see note) \n",
            "     |      'f'         floating point     4 \n",
            "     |      'd'         floating point     8 \n",
            "     |  \n",
            "     |  NOTE: The 'u' typecode corresponds to Python's unicode character. On \n",
            "     |  narrow builds this is 2-bytes on wide builds this is 4-bytes.\n",
            "     |  \n",
            "     |  NOTE: The 'q' and 'Q' type codes are only available if the platform \n",
            "     |  C compiler used to build Python supports 'long long', or, on Windows, \n",
            "     |  '__int64'.\n",
            "     |  \n",
            "     |  Methods:\n",
            "     |  \n",
            "     |  append() -- append a new item to the end of the array\n",
            "     |  buffer_info() -- return information giving the current memory info\n",
            "     |  byteswap() -- byteswap all the items of the array\n",
            "     |  count() -- return number of occurrences of an object\n",
            "     |  extend() -- extend array by appending multiple elements from an iterable\n",
            "     |  fromfile() -- read items from a file object\n",
            "     |  fromlist() -- append items from the list\n",
            "     |  frombytes() -- append items from the string\n",
            "     |  index() -- return index of first occurrence of an object\n",
            "     |  insert() -- insert a new item into the array at a provided position\n",
            "     |  pop() -- remove and return item (default last)\n",
            "     |  remove() -- remove first occurrence of an object\n",
            "     |  reverse() -- reverse the order of the items in the array\n",
            "     |  tofile() -- write all items to a file object\n",
            "     |  tolist() -- return the array converted to an ordinary list\n",
            "     |  tobytes() -- return the array converted to a string\n",
            "     |  \n",
            "     |  Attributes:\n",
            "     |  \n",
            "     |  typecode -- the typecode character used to create the array\n",
            "     |  itemsize -- the length in bytes of one array item\n",
            "     |  \n",
            "     |  Methods defined here:\n",
            "     |  \n",
            "     |  __add__(self, value, /)\n",
            "     |      Return self+value.\n",
            "     |  \n",
            "     |  __contains__(self, key, /)\n",
            "     |      Return key in self.\n",
            "     |  \n",
            "     |  __copy__(self, /)\n",
            "     |      Return a copy of the array.\n",
            "     |  \n",
            "     |  __deepcopy__(self, unused, /)\n",
            "     |      Return a copy of the array.\n",
            "     |  \n",
            "     |  __delitem__(self, key, /)\n",
            "     |      Delete self[key].\n",
            "     |  \n",
            "     |  __eq__(self, value, /)\n",
            "     |      Return self==value.\n",
            "     |  \n",
            "     |  __ge__(self, value, /)\n",
            "     |      Return self>=value.\n",
            "     |  \n",
            "     |  __getattribute__(self, name, /)\n",
            "     |      Return getattr(self, name).\n",
            "     |  \n",
            "     |  __getitem__(self, key, /)\n",
            "     |      Return self[key].\n",
            "     |  \n",
            "     |  __gt__(self, value, /)\n",
            "     |      Return self>value.\n",
            "     |  \n",
            "     |  __iadd__(self, value, /)\n",
            "     |      Implement self+=value.\n",
            "     |  \n",
            "     |  __imul__(self, value, /)\n",
            "     |      Implement self*=value.\n",
            "     |  \n",
            "     |  __iter__(self, /)\n",
            "     |      Implement iter(self).\n",
            "     |  \n",
            "     |  __le__(self, value, /)\n",
            "     |      Return self<=value.\n",
            "     |  \n",
            "     |  __len__(self, /)\n",
            "     |      Return len(self).\n",
            "     |  \n",
            "     |  __lt__(self, value, /)\n",
            "     |      Return self<value.\n",
            "     |  \n",
            "     |  __mul__(self, value, /)\n",
            "     |      Return self*value.\n",
            "     |  \n",
            "     |  __ne__(self, value, /)\n",
            "     |      Return self!=value.\n",
            "     |  \n",
            "     |  __new__(*args, **kwargs) from builtins.type\n",
            "     |      Create and return a new object.  See help(type) for accurate signature.\n",
            "     |  \n",
            "     |  __reduce_ex__(self, value, /)\n",
            "     |      Return state information for pickling.\n",
            "     |  \n",
            "     |  __repr__(self, /)\n",
            "     |      Return repr(self).\n",
            "     |  \n",
            "     |  __rmul__(self, value, /)\n",
            "     |      Return value*self.\n",
            "     |  \n",
            "     |  __setitem__(self, key, value, /)\n",
            "     |      Set self[key] to value.\n",
            "     |  \n",
            "     |  __sizeof__(self, /)\n",
            "     |      Size of the array in memory, in bytes.\n",
            "     |  \n",
            "     |  append(self, v, /)\n",
            "     |      Append new value v to the end of the array.\n",
            "     |  \n",
            "     |  buffer_info(self, /)\n",
            "     |      Return a tuple (address, length) giving the current memory address and the length in items of the buffer used to hold array's contents.\n",
            "     |      \n",
            "     |      The length should be multiplied by the itemsize attribute to calculate\n",
            "     |      the buffer length in bytes.\n",
            "     |  \n",
            "     |  byteswap(self, /)\n",
            "     |      Byteswap all items of the array.\n",
            "     |      \n",
            "     |      If the items in the array are not 1, 2, 4, or 8 bytes in size, RuntimeError is\n",
            "     |      raised.\n",
            "     |  \n",
            "     |  count(self, v, /)\n",
            "     |      Return number of occurrences of v in the array.\n",
            "     |  \n",
            "     |  extend(self, bb, /)\n",
            "     |      Append items to the end of the array.\n",
            "     |  \n",
            "     |  frombytes(self, buffer, /)\n",
            "     |      Appends items from the string, interpreting it as an array of machine values, as if it had been read from a file using the fromfile() method).\n",
            "     |  \n",
            "     |  fromfile(self, f, n, /)\n",
            "     |      Read n objects from the file object f and append them to the end of the array.\n",
            "     |  \n",
            "     |  fromlist(self, list, /)\n",
            "     |      Append items to array from list.\n",
            "     |  \n",
            "     |  fromstring(self, buffer, /)\n",
            "     |      Appends items from the string, interpreting it as an array of machine values, as if it had been read from a file using the fromfile() method).\n",
            "     |      \n",
            "     |      This method is deprecated. Use frombytes instead.\n",
            "     |  \n",
            "     |  fromunicode(self, ustr, /)\n",
            "     |      Extends this array with data from the unicode string ustr.\n",
            "     |      \n",
            "     |      The array must be a unicode type array; otherwise a ValueError is raised.\n",
            "     |      Use array.frombytes(ustr.encode(...)) to append Unicode data to an array of\n",
            "     |      some other type.\n",
            "     |  \n",
            "     |  index(self, v, /)\n",
            "     |      Return index of first occurrence of v in the array.\n",
            "     |  \n",
            "     |  insert(self, i, v, /)\n",
            "     |      Insert a new item v into the array before position i.\n",
            "     |  \n",
            "     |  pop(self, i=-1, /)\n",
            "     |      Return the i-th element and delete it from the array.\n",
            "     |      \n",
            "     |      i defaults to -1.\n",
            "     |  \n",
            "     |  remove(self, v, /)\n",
            "     |      Remove the first occurrence of v in the array.\n",
            "     |  \n",
            "     |  reverse(self, /)\n",
            "     |      Reverse the order of the items in the array.\n",
            "     |  \n",
            "     |  tobytes(self, /)\n",
            "     |      Convert the array to an array of machine values and return the bytes representation.\n",
            "     |  \n",
            "     |  tofile(self, f, /)\n",
            "     |      Write all items (as machine values) to the file object f.\n",
            "     |  \n",
            "     |  tolist(self, /)\n",
            "     |      Convert array to an ordinary list with the same items.\n",
            "     |  \n",
            "     |  tostring(self, /)\n",
            "     |      Convert the array to an array of machine values and return the bytes representation.\n",
            "     |      \n",
            "     |      This method is deprecated. Use tobytes instead.\n",
            "     |  \n",
            "     |  tounicode(self, /)\n",
            "     |      Extends this array with data from the unicode string ustr.\n",
            "     |      \n",
            "     |      Convert the array to a unicode string.  The array must be a unicode type array;\n",
            "     |      otherwise a ValueError is raised.  Use array.tobytes().decode() to obtain a\n",
            "     |      unicode string from an array of some other type.\n",
            "     |  \n",
            "     |  ----------------------------------------------------------------------\n",
            "     |  Data descriptors defined here:\n",
            "     |  \n",
            "     |  itemsize\n",
            "     |      the size, in bytes, of one array item\n",
            "     |  \n",
            "     |  typecode\n",
            "     |      the typecode character used to create the array\n",
            "     |  \n",
            "     |  ----------------------------------------------------------------------\n",
            "     |  Data and other attributes defined here:\n",
            "     |  \n",
            "     |  __hash__ = None\n",
            "\n",
            "DATA\n",
            "    typecodes = 'bBuhHiIlLqQfd'\n",
            "\n",
            "FILE\n",
            "    (built-in)\n",
            "\n",
            "\n"
          ],
          "name": "stdout"
        }
      ]
    },
    {
      "cell_type": "code",
      "metadata": {
        "id": "2fh7RwwtJeTD",
        "colab_type": "code",
        "colab": {
          "base_uri": "https://localhost:8080/",
          "height": 34
        },
        "outputId": "b67d89b7-b38d-4e37-930c-0cf43742f111"
      },
      "source": [
        "from array import *\n",
        "arr_2=array('I',{15,25,24,85,17})\n",
        "arr_2"
      ],
      "execution_count": null,
      "outputs": [
        {
          "output_type": "execute_result",
          "data": {
            "text/plain": [
              "array('I', [15, 17, 85, 24, 25])"
            ]
          },
          "metadata": {
            "tags": []
          },
          "execution_count": 17
        }
      ]
    },
    {
      "cell_type": "code",
      "metadata": {
        "id": "YHd74a74TSFZ",
        "colab_type": "code",
        "colab": {
          "base_uri": "https://localhost:8080/",
          "height": 34
        },
        "outputId": "08be572b-1f55-4b11-b2a8-31bf20986d86"
      },
      "source": [
        "arr_2.insert(2,17)\n",
        "arr_2"
      ],
      "execution_count": null,
      "outputs": [
        {
          "output_type": "execute_result",
          "data": {
            "text/plain": [
              "array('I', [15, 17, 17, 17, 85, 24, 25])"
            ]
          },
          "metadata": {
            "tags": []
          },
          "execution_count": 19
        }
      ]
    },
    {
      "cell_type": "code",
      "metadata": {
        "id": "nIIic_U7QmGV",
        "colab_type": "code",
        "colab": {
          "base_uri": "https://localhost:8080/",
          "height": 34
        },
        "outputId": "e04d9393-198c-4a65-ebfa-78d8d577d220"
      },
      "source": [
        "arr_2.count(17)"
      ],
      "execution_count": null,
      "outputs": [
        {
          "output_type": "execute_result",
          "data": {
            "text/plain": [
              "3"
            ]
          },
          "metadata": {
            "tags": []
          },
          "execution_count": 20
        }
      ]
    },
    {
      "cell_type": "code",
      "metadata": {
        "id": "NFkIJy-eTkFl",
        "colab_type": "code",
        "colab": {
          "base_uri": "https://localhost:8080/",
          "height": 34
        },
        "outputId": "5ae7c4ce-098b-475d-9871-cb61c61b8b12"
      },
      "source": [
        "arr_2.remove(17)\n",
        "print(arr_2)"
      ],
      "execution_count": null,
      "outputs": [
        {
          "output_type": "stream",
          "text": [
            "array('I', [15, 17, 17, 85, 24, 25])\n"
          ],
          "name": "stdout"
        }
      ]
    },
    {
      "cell_type": "code",
      "metadata": {
        "id": "Hn4T_l7aTuYG",
        "colab_type": "code",
        "colab": {
          "base_uri": "https://localhost:8080/",
          "height": 34
        },
        "outputId": "8e2a8836-0445-4bb1-b725-352dc476a4a1"
      },
      "source": [
        "arr_2.buffer_info()"
      ],
      "execution_count": null,
      "outputs": [
        {
          "output_type": "execute_result",
          "data": {
            "text/plain": [
              "(140497713244144, 6)"
            ]
          },
          "metadata": {
            "tags": []
          },
          "execution_count": 22
        }
      ]
    },
    {
      "cell_type": "markdown",
      "metadata": {
        "id": "xTkZUB9SW_31",
        "colab_type": "text"
      },
      "source": [
        "**String array create:if we defined data type c in first bracket then we also have to defined the value in first bracket or if c is in second bracket the data also in second bracket.Example is below:** "
      ]
    },
    {
      "cell_type": "code",
      "metadata": {
        "id": "Iif_-qNfVopK",
        "colab_type": "code",
        "colab": {}
      },
      "source": [
        "arr_fruits=(\"u\",[\"orange\",\"apple\",\"mango\"])"
      ],
      "execution_count": null,
      "outputs": []
    },
    {
      "cell_type": "code",
      "metadata": {
        "id": "LGEXq1qgXsKv",
        "colab_type": "code",
        "colab": {}
      },
      "source": [
        "arr_bike=('u',['FZ-5','APACHE'])"
      ],
      "execution_count": null,
      "outputs": []
    },
    {
      "cell_type": "code",
      "metadata": {
        "id": "R-qH62sSWcxu",
        "colab_type": "code",
        "colab": {}
      },
      "source": [
        "arr_cars=('u',['BMW','LAMBORGINI','PORCHE'])"
      ],
      "execution_count": null,
      "outputs": []
    },
    {
      "cell_type": "code",
      "metadata": {
        "id": "U1IayO_JT7I-",
        "colab_type": "code",
        "colab": {
          "base_uri": "https://localhost:8080/",
          "height": 35
        },
        "outputId": "639de69b-22e5-45f4-ad5a-4c9f1dd91126"
      },
      "source": [
        "arr_2.typecode"
      ],
      "execution_count": null,
      "outputs": [
        {
          "output_type": "execute_result",
          "data": {
            "application/vnd.google.colaboratory.intrinsic": {
              "type": "string"
            },
            "text/plain": [
              "'I'"
            ]
          },
          "metadata": {
            "tags": []
          },
          "execution_count": 51
        }
      ]
    },
    {
      "cell_type": "code",
      "metadata": {
        "id": "EVm7Liq8bdp0",
        "colab_type": "code",
        "colab": {
          "base_uri": "https://localhost:8080/",
          "height": 34
        },
        "outputId": "e4397169-7983-4d3b-c2d4-8f6d51e0ea44"
      },
      "source": [
        "arr_2.reverse()\n",
        "print(arr_2)"
      ],
      "execution_count": null,
      "outputs": [
        {
          "output_type": "stream",
          "text": [
            "array('I', [15, 17, 17, 85, 24, 25])\n"
          ],
          "name": "stdout"
        }
      ]
    },
    {
      "cell_type": "markdown",
      "metadata": {
        "id": "QLWLla8XcUvf",
        "colab_type": "text"
      },
      "source": [
        "COPYING ARRAY ELEMENT FROM ONE TO ANOTHER"
      ]
    },
    {
      "cell_type": "code",
      "metadata": {
        "id": "7KaD_poGcQVB",
        "colab_type": "code",
        "colab": {
          "base_uri": "https://localhost:8080/",
          "height": 34
        },
        "outputId": "585526de-a13e-405e-8ec8-2392cd518d49"
      },
      "source": [
        "num_1=array('i',[12,17,15,16,25,98])\n",
        "num_2=array(num_1.typecode,(a  for a in num_1))\n",
        "print(num_2)"
      ],
      "execution_count": null,
      "outputs": [
        {
          "output_type": "stream",
          "text": [
            "array('i', [12, 17, 15, 16, 25, 98])\n"
          ],
          "name": "stdout"
        }
      ]
    },
    {
      "cell_type": "markdown",
      "metadata": {
        "id": "BJ6HhgoxdZ_q",
        "colab_type": "text"
      },
      "source": [
        "IT will print the value as its suare as here the value is(a*a)"
      ]
    },
    {
      "cell_type": "code",
      "metadata": {
        "id": "NuObWgBcdLDZ",
        "colab_type": "code",
        "colab": {
          "base_uri": "https://localhost:8080/",
          "height": 34
        },
        "outputId": "cf4d83ef-87e4-4e12-a666-7d000cb20a8e"
      },
      "source": [
        "num_3=array(num_1.typecode,(a*a for a in num_1))\n",
        "print(num_3)"
      ],
      "execution_count": null,
      "outputs": [
        {
          "output_type": "stream",
          "text": [
            "array('i', [144, 289, 225, 256, 625, 9604])\n"
          ],
          "name": "stdout"
        }
      ]
    },
    {
      "cell_type": "markdown",
      "metadata": {
        "id": "cdjK85hKfKYd",
        "colab_type": "text"
      },
      "source": [
        "**ARRAY INPUT FROM USER**"
      ]
    },
    {
      "cell_type": "code",
      "metadata": {
        "id": "zaQlfFT1fOv3",
        "colab_type": "code",
        "colab": {}
      },
      "source": [
        ""
      ],
      "execution_count": null,
      "outputs": []
    }
  ]
}